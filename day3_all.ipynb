{
 "cells": [
  {
   "cell_type": "code",
   "execution_count": 1,
   "id": "c7b403e6",
   "metadata": {},
   "outputs": [],
   "source": [
    "import pandas as pd\n",
    "from sklearn.preprocessing import LabelEncoder\n",
    "from sklearn.model_selection import train_test_split\n",
    "from sklearn.metrics import confusion_matrix,accuracy_score,mean_squared_error,r2_score\n",
    "from smodel = RandomForestClassifier()\n",
    "model.fit(X_train,Y_train)\n",
    "Y_pred = model.predict(X_test)klearn.ensemble import RandomForestClassifier,RandomForestRegressor"
   ]
  },
  {
   "cell_type": "code",
   "execution_count": 46,
   "id": "6b6fb843",
   "metadata": {},
   "outputs": [],
   "source": [
    "iris = pd.read_csv(\"https://gist.githubusercontent.com/netj/8836201/raw/6f9306ad21398ea43cba4f7d537619d0e07d5ae3/iris.csv\")\n",
    "Y = iris['variety']\n",
    "X = iris.drop('variety',axis=1)\n",
    "X_train,X_test,Y_train,Y_test = train_test_split(X,Y,test_size=0.3,random_state=10)\n"
   ]
  },
  {
   "cell_type": "code",
   "execution_count": 3,
   "id": "b88c228c",
   "metadata": {},
   "outputs": [],
   "source": [
    "model = RandomForestClassifier()\n",
    "model.fit(X_train,Y_train)\n",
    "Y_pred = model.predict(X_test)"
   ]
  },
  {
   "cell_type": "code",
   "execution_count": 4,
   "id": "d0c3be6a",
   "metadata": {},
   "outputs": [
    {
     "name": "stdout",
     "output_type": "stream",
     "text": [
      "[[14  0  0]\n",
      " [ 0 16  1]\n",
      " [ 0  1 13]]\n",
      "0.9555555555555556\n"
     ]
    }
   ],
   "source": [
    "print(confusion_matrix(Y_test,Y_pred))\n",
    "print(accuracy_score(Y_test,Y_pred))"
   ]
  },
  {
   "cell_type": "code",
   "execution_count": 8,
   "id": "c13ec37e",
   "metadata": {},
   "outputs": [
    {
     "name": "stdout",
     "output_type": "stream",
     "text": [
      "|--- feature_3 <= 0.70\n",
      "|   |--- class: 0.0\n",
      "|--- feature_3 >  0.70\n",
      "|   |--- feature_3 <= 1.65\n",
      "|   |   |--- feature_2 <= 5.00\n",
      "|   |   |   |--- class: 1.0\n",
      "|   |   |--- feature_2 >  5.00\n",
      "|   |   |   |--- feature_1 <= 2.75\n",
      "|   |   |   |   |--- class: 1.0\n",
      "|   |   |   |--- feature_1 >  2.75\n",
      "|   |   |   |   |--- class: 2.0\n",
      "|   |--- feature_3 >  1.65\n",
      "|   |   |--- feature_3 <= 1.75\n",
      "|   |   |   |--- feature_1 <= 2.75\n",
      "|   |   |   |   |--- class: 2.0\n",
      "|   |   |   |--- feature_1 >  2.75\n",
      "|   |   |   |   |--- class: 1.0\n",
      "|   |   |--- feature_3 >  1.75\n",
      "|   |   |   |--- feature_0 <= 5.95\n",
      "|   |   |   |   |--- feature_2 <= 4.85\n",
      "|   |   |   |   |   |--- class: 1.0\n",
      "|   |   |   |   |--- feature_2 >  4.85\n",
      "|   |   |   |   |   |--- class: 2.0\n",
      "|   |   |   |--- feature_0 >  5.95\n",
      "|   |   |   |   |--- class: 2.0\n",
      "\n"
     ]
    }
   ],
   "source": [
    "from sklearn.tree import export_text\n",
    "print(export_text(model.estimators_[0]))"
   ]
  },
  {
   "cell_type": "code",
   "execution_count": 47,
   "id": "951e824f",
   "metadata": {},
   "outputs": [
    {
     "data": {
      "text/html": [
       "<div>\n",
       "<style scoped>\n",
       "    .dataframe tbody tr th:only-of-type {\n",
       "        vertical-align: middle;\n",
       "    }\n",
       "\n",
       "    .dataframe tbody tr th {\n",
       "        vertical-align: top;\n",
       "    }\n",
       "\n",
       "    .dataframe thead th {\n",
       "        text-align: right;\n",
       "    }\n",
       "</style>\n",
       "<table border=\"1\" class=\"dataframe\">\n",
       "  <thead>\n",
       "    <tr style=\"text-align: right;\">\n",
       "      <th></th>\n",
       "      <th>fixed acidity</th>\n",
       "      <th>volatile acidity</th>\n",
       "      <th>citric acid</th>\n",
       "      <th>residual sugar</th>\n",
       "      <th>chlorides</th>\n",
       "      <th>free sulfur dioxide</th>\n",
       "      <th>total sulfur dioxide</th>\n",
       "      <th>density</th>\n",
       "      <th>pH</th>\n",
       "      <th>sulphates</th>\n",
       "      <th>alcohol</th>\n",
       "      <th>quality</th>\n",
       "    </tr>\n",
       "  </thead>\n",
       "  <tbody>\n",
       "    <tr>\n",
       "      <th>0</th>\n",
       "      <td>7.4</td>\n",
       "      <td>0.70</td>\n",
       "      <td>0.00</td>\n",
       "      <td>1.9</td>\n",
       "      <td>0.076</td>\n",
       "      <td>11.0</td>\n",
       "      <td>34.0</td>\n",
       "      <td>0.9978</td>\n",
       "      <td>3.51</td>\n",
       "      <td>0.56</td>\n",
       "      <td>9.4</td>\n",
       "      <td>5</td>\n",
       "    </tr>\n",
       "    <tr>\n",
       "      <th>1</th>\n",
       "      <td>7.8</td>\n",
       "      <td>0.88</td>\n",
       "      <td>0.00</td>\n",
       "      <td>2.6</td>\n",
       "      <td>0.098</td>\n",
       "      <td>25.0</td>\n",
       "      <td>67.0</td>\n",
       "      <td>0.9968</td>\n",
       "      <td>3.20</td>\n",
       "      <td>0.68</td>\n",
       "      <td>9.8</td>\n",
       "      <td>5</td>\n",
       "    </tr>\n",
       "    <tr>\n",
       "      <th>2</th>\n",
       "      <td>7.8</td>\n",
       "      <td>0.76</td>\n",
       "      <td>0.04</td>\n",
       "      <td>2.3</td>\n",
       "      <td>0.092</td>\n",
       "      <td>15.0</td>\n",
       "      <td>54.0</td>\n",
       "      <td>0.9970</td>\n",
       "      <td>3.26</td>\n",
       "      <td>0.65</td>\n",
       "      <td>9.8</td>\n",
       "      <td>5</td>\n",
       "    </tr>\n",
       "    <tr>\n",
       "      <th>3</th>\n",
       "      <td>11.2</td>\n",
       "      <td>0.28</td>\n",
       "      <td>0.56</td>\n",
       "      <td>1.9</td>\n",
       "      <td>0.075</td>\n",
       "      <td>17.0</td>\n",
       "      <td>60.0</td>\n",
       "      <td>0.9980</td>\n",
       "      <td>3.16</td>\n",
       "      <td>0.58</td>\n",
       "      <td>9.8</td>\n",
       "      <td>6</td>\n",
       "    </tr>\n",
       "    <tr>\n",
       "      <th>4</th>\n",
       "      <td>7.4</td>\n",
       "      <td>0.70</td>\n",
       "      <td>0.00</td>\n",
       "      <td>1.9</td>\n",
       "      <td>0.076</td>\n",
       "      <td>11.0</td>\n",
       "      <td>34.0</td>\n",
       "      <td>0.9978</td>\n",
       "      <td>3.51</td>\n",
       "      <td>0.56</td>\n",
       "      <td>9.4</td>\n",
       "      <td>5</td>\n",
       "    </tr>\n",
       "  </tbody>\n",
       "</table>\n",
       "</div>"
      ],
      "text/plain": [
       "   fixed acidity  volatile acidity  citric acid  residual sugar  chlorides  \\\n",
       "0            7.4              0.70         0.00             1.9      0.076   \n",
       "1            7.8              0.88         0.00             2.6      0.098   \n",
       "2            7.8              0.76         0.04             2.3      0.092   \n",
       "3           11.2              0.28         0.56             1.9      0.075   \n",
       "4            7.4              0.70         0.00             1.9      0.076   \n",
       "\n",
       "   free sulfur dioxide  total sulfur dioxide  density    pH  sulphates  \\\n",
       "0                 11.0                  34.0   0.9978  3.51       0.56   \n",
       "1                 25.0                  67.0   0.9968  3.20       0.68   \n",
       "2                 15.0                  54.0   0.9970  3.26       0.65   \n",
       "3                 17.0                  60.0   0.9980  3.16       0.58   \n",
       "4                 11.0                  34.0   0.9978  3.51       0.56   \n",
       "\n",
       "   alcohol  quality  \n",
       "0      9.4        5  \n",
       "1      9.8        5  \n",
       "2      9.8        5  \n",
       "3      9.8        6  \n",
       "4      9.4        5  "
      ]
     },
     "execution_count": 47,
     "metadata": {},
     "output_type": "execute_result"
    }
   ],
   "source": [
    "wine=pd.read_csv(\"C:\\\\Users\\\\Admin\\\\Downloads\\\\winequality-red.csv\",sep=';')\n",
    "wine.head()"
   ]
  },
  {
   "cell_type": "code",
   "execution_count": 48,
   "id": "14ae0b9b",
   "metadata": {},
   "outputs": [],
   "source": [
    "Y = wine['quality']\n",
    "X = wine.drop('quality',axis=1)\n",
    "X_train,X_test,Y_train,Y_test = train_test_split(X,Y,test_size=0.3,random_state=10)"
   ]
  },
  {
   "cell_type": "code",
   "execution_count": 14,
   "id": "3eff94d9",
   "metadata": {},
   "outputs": [],
   "source": [
    "model = RandomForestClassifier()\n",
    "model.fit(X_train,Y_train)\n",
    "Y_pred = model.predict(X_test)"
   ]
  },
  {
   "cell_type": "code",
   "execution_count": 15,
   "id": "65945237",
   "metadata": {},
   "outputs": [
    {
     "name": "stdout",
     "output_type": "stream",
     "text": [
      "[[  0   1   1   0   0   0]\n",
      " [  0   0  11   5   0   0]\n",
      " [  0   2 162  43   3   0]\n",
      " [  0   1  48 122  12   0]\n",
      " [  0   0   1  25  32   0]\n",
      " [  0   0   0   6   5   0]]\n",
      "0.6583333333333333\n"
     ]
    }
   ],
   "source": [
    "print(confusion_matrix(Y_test,Y_pred))\n",
    "print(accuracy_score(Y_test,Y_pred))"
   ]
  },
  {
   "cell_type": "code",
   "execution_count": 16,
   "id": "80202188",
   "metadata": {},
   "outputs": [
    {
     "name": "stdout",
     "output_type": "stream",
     "text": [
      "|--- feature_2 <= 0.30\n",
      "|   |--- feature_9 <= 0.56\n",
      "|   |   |--- feature_1 <= 0.55\n",
      "|   |   |   |--- feature_0 <= 7.40\n",
      "|   |   |   |   |--- feature_1 <= 0.48\n",
      "|   |   |   |   |   |--- feature_7 <= 1.00\n",
      "|   |   |   |   |   |   |--- feature_1 <= 0.35\n",
      "|   |   |   |   |   |   |   |--- feature_7 <= 0.99\n",
      "|   |   |   |   |   |   |   |   |--- class: 4.0\n",
      "|   |   |   |   |   |   |   |--- feature_7 >  0.99\n",
      "|   |   |   |   |   |   |   |   |--- class: 2.0\n",
      "|   |   |   |   |   |   |--- feature_1 >  0.35\n",
      "|   |   |   |   |   |   |   |--- feature_5 <= 9.50\n",
      "|   |   |   |   |   |   |   |   |--- class: 1.0\n",
      "|   |   |   |   |   |   |   |--- feature_5 >  9.50\n",
      "|   |   |   |   |   |   |   |   |--- class: 3.0\n",
      "|   |   |   |   |   |--- feature_7 >  1.00\n",
      "|   |   |   |   |   |   |--- feature_9 <= 0.52\n",
      "|   |   |   |   |   |   |   |--- class: 2.0\n",
      "|   |   |   |   |   |   |--- feature_9 >  0.52\n",
      "|   |   |   |   |   |   |   |--- class: 3.0\n",
      "|   |   |   |   |--- feature_1 >  0.48\n",
      "|   |   |   |   |   |--- feature_6 <= 63.00\n",
      "|   |   |   |   |   |   |--- feature_1 <= 0.50\n",
      "|   |   |   |   |   |   |   |--- feature_3 <= 2.45\n",
      "|   |   |   |   |   |   |   |   |--- class: 2.0\n",
      "|   |   |   |   |   |   |   |--- feature_3 >  2.45\n",
      "|   |   |   |   |   |   |   |   |--- class: 3.0\n",
      "|   |   |   |   |   |   |--- feature_1 >  0.50\n",
      "|   |   |   |   |   |   |   |--- class: 2.0\n",
      "|   |   |   |   |   |--- feature_6 >  63.00\n",
      "|   |   |   |   |   |   |--- class: 3.0\n",
      "|   |   |   |--- feature_0 >  7.40\n",
      "|   |   |   |   |--- feature_6 <= 22.00\n",
      "|   |   |   |   |   |--- class: 2.0\n",
      "|   |   |   |   |--- feature_6 >  22.00\n",
      "|   |   |   |   |   |--- feature_6 <= 38.00\n",
      "|   |   |   |   |   |   |--- class: 3.0\n",
      "|   |   |   |   |   |--- feature_6 >  38.00\n",
      "|   |   |   |   |   |   |--- feature_2 <= 0.25\n",
      "|   |   |   |   |   |   |   |--- class: 3.0\n",
      "|   |   |   |   |   |   |--- feature_2 >  0.25\n",
      "|   |   |   |   |   |   |   |--- class: 2.0\n",
      "|   |   |--- feature_1 >  0.55\n",
      "|   |   |   |--- feature_3 <= 9.30\n",
      "|   |   |   |   |--- feature_4 <= 0.07\n",
      "|   |   |   |   |   |--- feature_7 <= 1.00\n",
      "|   |   |   |   |   |   |--- feature_4 <= 0.07\n",
      "|   |   |   |   |   |   |   |--- feature_0 <= 6.75\n",
      "|   |   |   |   |   |   |   |   |--- feature_6 <= 15.00\n",
      "|   |   |   |   |   |   |   |   |   |--- class: 3.0\n",
      "|   |   |   |   |   |   |   |   |--- feature_6 >  15.00\n",
      "|   |   |   |   |   |   |   |   |   |--- class: 2.0\n",
      "|   |   |   |   |   |   |   |--- feature_0 >  6.75\n",
      "|   |   |   |   |   |   |   |   |--- class: 3.0\n",
      "|   |   |   |   |   |   |--- feature_4 >  0.07\n",
      "|   |   |   |   |   |   |   |--- class: 1.0\n",
      "|   |   |   |   |   |--- feature_7 >  1.00\n",
      "|   |   |   |   |   |   |--- feature_7 <= 1.00\n",
      "|   |   |   |   |   |   |   |--- feature_3 <= 2.40\n",
      "|   |   |   |   |   |   |   |   |--- class: 2.0\n",
      "|   |   |   |   |   |   |   |--- feature_3 >  2.40\n",
      "|   |   |   |   |   |   |   |   |--- class: 1.0\n",
      "|   |   |   |   |   |   |--- feature_7 >  1.00\n",
      "|   |   |   |   |   |   |   |--- feature_8 <= 3.27\n",
      "|   |   |   |   |   |   |   |   |--- class: 2.0\n",
      "|   |   |   |   |   |   |   |--- feature_8 >  3.27\n",
      "|   |   |   |   |   |   |   |   |--- class: 3.0\n",
      "|   |   |   |   |--- feature_4 >  0.07\n",
      "|   |   |   |   |   |--- feature_6 <= 111.00\n",
      "|   |   |   |   |   |   |--- feature_6 <= 88.50\n",
      "|   |   |   |   |   |   |   |--- feature_4 <= 0.22\n",
      "|   |   |   |   |   |   |   |   |--- feature_8 <= 3.61\n",
      "|   |   |   |   |   |   |   |   |   |--- feature_1 <= 1.02\n",
      "|   |   |   |   |   |   |   |   |   |   |--- feature_1 <= 0.56\n",
      "|   |   |   |   |   |   |   |   |   |   |   |--- truncated branch of depth 4\n",
      "|   |   |   |   |   |   |   |   |   |   |--- feature_1 >  0.56\n",
      "|   |   |   |   |   |   |   |   |   |   |   |--- truncated branch of depth 9\n",
      "|   |   |   |   |   |   |   |   |   |--- feature_1 >  1.02\n",
      "|   |   |   |   |   |   |   |   |   |   |--- class: 3.0\n",
      "|   |   |   |   |   |   |   |   |--- feature_8 >  3.61\n",
      "|   |   |   |   |   |   |   |   |   |--- class: 0.0\n",
      "|   |   |   |   |   |   |   |--- feature_4 >  0.22\n",
      "|   |   |   |   |   |   |   |   |--- class: 0.0\n",
      "|   |   |   |   |   |   |--- feature_6 >  88.50\n",
      "|   |   |   |   |   |   |   |--- feature_7 <= 1.00\n",
      "|   |   |   |   |   |   |   |   |--- class: 3.0\n",
      "|   |   |   |   |   |   |   |--- feature_7 >  1.00\n",
      "|   |   |   |   |   |   |   |   |--- class: 2.0\n",
      "|   |   |   |   |   |--- feature_6 >  111.00\n",
      "|   |   |   |   |   |   |--- class: 2.0\n",
      "|   |   |   |--- feature_3 >  9.30\n",
      "|   |   |   |   |--- class: 3.0\n",
      "|   |--- feature_9 >  0.56\n",
      "|   |   |--- feature_8 <= 3.27\n",
      "|   |   |   |--- feature_10 <= 9.75\n",
      "|   |   |   |   |--- feature_6 <= 17.50\n",
      "|   |   |   |   |   |--- class: 3.0\n",
      "|   |   |   |   |--- feature_6 >  17.50\n",
      "|   |   |   |   |   |--- feature_9 <= 1.01\n",
      "|   |   |   |   |   |   |--- feature_9 <= 0.61\n",
      "|   |   |   |   |   |   |   |--- feature_9 <= 0.59\n",
      "|   |   |   |   |   |   |   |   |--- feature_7 <= 1.00\n",
      "|   |   |   |   |   |   |   |   |   |--- feature_3 <= 2.10\n",
      "|   |   |   |   |   |   |   |   |   |   |--- class: 2.0\n",
      "|   |   |   |   |   |   |   |   |   |--- feature_3 >  2.10\n",
      "|   |   |   |   |   |   |   |   |   |   |--- feature_4 <= 0.07\n",
      "|   |   |   |   |   |   |   |   |   |   |   |--- class: 2.0\n",
      "|   |   |   |   |   |   |   |   |   |   |--- feature_4 >  0.07\n",
      "|   |   |   |   |   |   |   |   |   |   |   |--- truncated branch of depth 2\n",
      "|   |   |   |   |   |   |   |   |--- feature_7 >  1.00\n",
      "|   |   |   |   |   |   |   |   |   |--- class: 2.0\n",
      "|   |   |   |   |   |   |   |--- feature_9 >  0.59\n",
      "|   |   |   |   |   |   |   |   |--- class: 3.0\n",
      "|   |   |   |   |   |   |--- feature_9 >  0.61\n",
      "|   |   |   |   |   |   |   |--- class: 2.0\n",
      "|   |   |   |   |   |--- feature_9 >  1.01\n",
      "|   |   |   |   |   |   |--- feature_4 <= 0.10\n",
      "|   |   |   |   |   |   |   |--- class: 1.0\n",
      "|   |   |   |   |   |   |--- feature_4 >  0.10\n",
      "|   |   |   |   |   |   |   |--- class: 2.0\n",
      "|   |   |   |--- feature_10 >  9.75\n",
      "|   |   |   |   |--- feature_8 <= 3.16\n",
      "|   |   |   |   |   |--- feature_3 <= 2.35\n",
      "|   |   |   |   |   |   |--- class: 2.0\n",
      "|   |   |   |   |   |--- feature_3 >  2.35\n",
      "|   |   |   |   |   |   |--- class: 3.0\n",
      "|   |   |   |   |--- feature_8 >  3.16\n",
      "|   |   |   |   |   |--- feature_10 <= 10.05\n",
      "|   |   |   |   |   |   |--- feature_1 <= 0.47\n",
      "|   |   |   |   |   |   |   |--- class: 2.0\n",
      "|   |   |   |   |   |   |--- feature_1 >  0.47\n",
      "|   |   |   |   |   |   |   |--- feature_1 <= 0.69\n",
      "|   |   |   |   |   |   |   |   |--- class: 3.0\n",
      "|   |   |   |   |   |   |   |--- feature_1 >  0.69\n",
      "|   |   |   |   |   |   |   |   |--- class: 2.0\n",
      "|   |   |   |   |   |--- feature_10 >  10.05\n",
      "|   |   |   |   |   |   |--- feature_4 <= 0.12\n",
      "|   |   |   |   |   |   |   |--- class: 3.0\n",
      "|   |   |   |   |   |   |--- feature_4 >  0.12\n",
      "|   |   |   |   |   |   |   |--- feature_3 <= 2.60\n",
      "|   |   |   |   |   |   |   |   |--- class: 2.0\n",
      "|   |   |   |   |   |   |   |--- feature_3 >  2.60\n",
      "|   |   |   |   |   |   |   |   |--- class: 3.0\n",
      "|   |   |--- feature_8 >  3.27\n",
      "|   |   |   |--- feature_1 <= 0.61\n",
      "|   |   |   |   |--- feature_3 <= 1.75\n",
      "|   |   |   |   |   |--- feature_2 <= 0.02\n",
      "|   |   |   |   |   |   |--- feature_5 <= 8.00\n",
      "|   |   |   |   |   |   |   |--- class: 4.0\n",
      "|   |   |   |   |   |   |--- feature_5 >  8.00\n",
      "|   |   |   |   |   |   |   |--- class: 3.0\n",
      "|   |   |   |   |   |--- feature_2 >  0.02\n",
      "|   |   |   |   |   |   |--- feature_10 <= 10.30\n",
      "|   |   |   |   |   |   |   |--- class: 2.0\n",
      "|   |   |   |   |   |   |--- feature_10 >  10.30\n",
      "|   |   |   |   |   |   |   |--- feature_2 <= 0.16\n",
      "|   |   |   |   |   |   |   |   |--- class: 2.0\n",
      "|   |   |   |   |   |   |   |--- feature_2 >  0.16\n",
      "|   |   |   |   |   |   |   |   |--- class: 3.0\n",
      "|   |   |   |   |--- feature_3 >  1.75\n",
      "|   |   |   |   |   |--- feature_2 <= 0.19\n",
      "|   |   |   |   |   |   |--- feature_8 <= 3.47\n",
      "|   |   |   |   |   |   |   |--- feature_7 <= 1.00\n",
      "|   |   |   |   |   |   |   |   |--- feature_0 <= 6.15\n",
      "|   |   |   |   |   |   |   |   |   |--- feature_1 <= 0.39\n",
      "|   |   |   |   |   |   |   |   |   |   |--- class: 2.0\n",
      "|   |   |   |   |   |   |   |   |   |--- feature_1 >  0.39\n",
      "|   |   |   |   |   |   |   |   |   |   |--- class: 4.0\n",
      "|   |   |   |   |   |   |   |   |--- feature_0 >  6.15\n",
      "|   |   |   |   |   |   |   |   |   |--- feature_0 <= 7.60\n",
      "|   |   |   |   |   |   |   |   |   |   |--- feature_5 <= 34.50\n",
      "|   |   |   |   |   |   |   |   |   |   |   |--- truncated branch of depth 3\n",
      "|   |   |   |   |   |   |   |   |   |   |--- feature_5 >  34.50\n",
      "|   |   |   |   |   |   |   |   |   |   |   |--- class: 4.0\n",
      "|   |   |   |   |   |   |   |   |   |--- feature_0 >  7.60\n",
      "|   |   |   |   |   |   |   |   |   |   |--- feature_1 <= 0.56\n",
      "|   |   |   |   |   |   |   |   |   |   |   |--- class: 3.0\n",
      "|   |   |   |   |   |   |   |   |   |   |--- feature_1 >  0.56\n",
      "|   |   |   |   |   |   |   |   |   |   |   |--- class: 4.0\n",
      "|   |   |   |   |   |   |   |--- feature_7 >  1.00\n",
      "|   |   |   |   |   |   |   |   |--- feature_9 <= 0.78\n",
      "|   |   |   |   |   |   |   |   |   |--- feature_4 <= 0.08\n",
      "|   |   |   |   |   |   |   |   |   |   |--- feature_4 <= 0.07\n",
      "|   |   |   |   |   |   |   |   |   |   |   |--- class: 2.0\n",
      "|   |   |   |   |   |   |   |   |   |   |--- feature_4 >  0.07\n",
      "|   |   |   |   |   |   |   |   |   |   |   |--- truncated branch of depth 2\n",
      "|   |   |   |   |   |   |   |   |   |--- feature_4 >  0.08\n",
      "|   |   |   |   |   |   |   |   |   |   |--- feature_0 <= 9.10\n",
      "|   |   |   |   |   |   |   |   |   |   |   |--- truncated branch of depth 3\n",
      "|   |   |   |   |   |   |   |   |   |   |--- feature_0 >  9.10\n",
      "|   |   |   |   |   |   |   |   |   |   |   |--- class: 2.0\n",
      "|   |   |   |   |   |   |   |   |--- feature_9 >  0.78\n",
      "|   |   |   |   |   |   |   |   |   |--- class: 4.0\n",
      "|   |   |   |   |   |   |--- feature_8 >  3.47\n",
      "|   |   |   |   |   |   |   |--- feature_9 <= 0.57\n",
      "|   |   |   |   |   |   |   |   |--- feature_8 <= 3.71\n",
      "|   |   |   |   |   |   |   |   |   |--- class: 2.0\n",
      "|   |   |   |   |   |   |   |   |--- feature_8 >  3.71\n",
      "|   |   |   |   |   |   |   |   |   |--- class: 1.0\n",
      "|   |   |   |   |   |   |   |--- feature_9 >  0.57\n",
      "|   |   |   |   |   |   |   |   |--- feature_4 <= 0.08\n",
      "|   |   |   |   |   |   |   |   |   |--- feature_5 <= 27.50\n",
      "|   |   |   |   |   |   |   |   |   |   |--- feature_6 <= 81.00\n",
      "|   |   |   |   |   |   |   |   |   |   |   |--- class: 3.0\n",
      "|   |   |   |   |   |   |   |   |   |   |--- feature_6 >  81.00\n",
      "|   |   |   |   |   |   |   |   |   |   |   |--- truncated branch of depth 2\n",
      "|   |   |   |   |   |   |   |   |   |--- feature_5 >  27.50\n",
      "|   |   |   |   |   |   |   |   |   |   |--- feature_5 <= 34.00\n",
      "|   |   |   |   |   |   |   |   |   |   |   |--- class: 5.0\n",
      "|   |   |   |   |   |   |   |   |   |   |--- feature_5 >  34.00\n",
      "|   |   |   |   |   |   |   |   |   |   |   |--- class: 3.0\n",
      "|   |   |   |   |   |   |   |   |--- feature_4 >  0.08\n",
      "|   |   |   |   |   |   |   |   |   |--- class: 2.0\n",
      "|   |   |   |   |   |--- feature_2 >  0.19\n",
      "|   |   |   |   |   |   |--- feature_1 <= 0.34\n",
      "|   |   |   |   |   |   |   |--- feature_4 <= 0.07\n",
      "|   |   |   |   |   |   |   |   |--- feature_5 <= 21.00\n",
      "|   |   |   |   |   |   |   |   |   |--- class: 4.0\n",
      "|   |   |   |   |   |   |   |   |--- feature_5 >  21.00\n",
      "|   |   |   |   |   |   |   |   |   |--- class: 2.0\n",
      "|   |   |   |   |   |   |   |--- feature_4 >  0.07\n",
      "|   |   |   |   |   |   |   |   |--- class: 3.0\n",
      "|   |   |   |   |   |   |--- feature_1 >  0.34\n",
      "|   |   |   |   |   |   |   |--- feature_4 <= 0.08\n",
      "|   |   |   |   |   |   |   |   |--- feature_7 <= 1.00\n",
      "|   |   |   |   |   |   |   |   |   |--- class: 3.0\n",
      "|   |   |   |   |   |   |   |   |--- feature_7 >  1.00\n",
      "|   |   |   |   |   |   |   |   |   |--- class: 2.0\n",
      "|   |   |   |   |   |   |   |--- feature_4 >  0.08\n",
      "|   |   |   |   |   |   |   |   |--- feature_5 <= 4.50\n",
      "|   |   |   |   |   |   |   |   |   |--- class: 1.0\n",
      "|   |   |   |   |   |   |   |   |--- feature_5 >  4.50\n",
      "|   |   |   |   |   |   |   |   |   |--- feature_7 <= 1.00\n",
      "|   |   |   |   |   |   |   |   |   |   |--- feature_7 <= 1.00\n",
      "|   |   |   |   |   |   |   |   |   |   |   |--- class: 3.0\n",
      "|   |   |   |   |   |   |   |   |   |   |--- feature_7 >  1.00\n",
      "|   |   |   |   |   |   |   |   |   |   |   |--- class: 2.0\n",
      "|   |   |   |   |   |   |   |   |   |--- feature_7 >  1.00\n",
      "|   |   |   |   |   |   |   |   |   |   |--- class: 3.0\n",
      "|   |   |   |--- feature_1 >  0.61\n",
      "|   |   |   |   |--- feature_0 <= 6.15\n",
      "|   |   |   |   |   |--- feature_10 <= 10.35\n",
      "|   |   |   |   |   |   |--- class: 1.0\n",
      "|   |   |   |   |   |--- feature_10 >  10.35\n",
      "|   |   |   |   |   |   |--- feature_4 <= 0.08\n",
      "|   |   |   |   |   |   |   |--- class: 2.0\n",
      "|   |   |   |   |   |   |--- feature_4 >  0.08\n",
      "|   |   |   |   |   |   |   |--- class: 4.0\n",
      "|   |   |   |   |--- feature_0 >  6.15\n",
      "|   |   |   |   |   |--- feature_1 <= 1.00\n",
      "|   |   |   |   |   |   |--- feature_7 <= 1.00\n",
      "|   |   |   |   |   |   |   |--- feature_6 <= 75.00\n",
      "|   |   |   |   |   |   |   |   |--- feature_2 <= 0.19\n",
      "|   |   |   |   |   |   |   |   |   |--- feature_10 <= 9.90\n",
      "|   |   |   |   |   |   |   |   |   |   |--- feature_2 <= 0.07\n",
      "|   |   |   |   |   |   |   |   |   |   |   |--- class: 2.0\n",
      "|   |   |   |   |   |   |   |   |   |   |--- feature_2 >  0.07\n",
      "|   |   |   |   |   |   |   |   |   |   |   |--- class: 3.0\n",
      "|   |   |   |   |   |   |   |   |   |--- feature_10 >  9.90\n",
      "|   |   |   |   |   |   |   |   |   |   |--- feature_0 <= 7.75\n",
      "|   |   |   |   |   |   |   |   |   |   |   |--- class: 3.0\n",
      "|   |   |   |   |   |   |   |   |   |   |--- feature_0 >  7.75\n",
      "|   |   |   |   |   |   |   |   |   |   |   |--- truncated branch of depth 2\n",
      "|   |   |   |   |   |   |   |   |--- feature_2 >  0.19\n",
      "|   |   |   |   |   |   |   |   |   |--- feature_5 <= 10.50\n",
      "|   |   |   |   |   |   |   |   |   |   |--- class: 2.0\n",
      "|   |   |   |   |   |   |   |   |   |--- feature_5 >  10.50\n",
      "|   |   |   |   |   |   |   |   |   |   |--- class: 3.0\n",
      "|   |   |   |   |   |   |   |--- feature_6 >  75.00\n",
      "|   |   |   |   |   |   |   |   |--- class: 2.0\n",
      "|   |   |   |   |   |   |--- feature_7 >  1.00\n",
      "|   |   |   |   |   |   |   |--- feature_10 <= 9.05\n",
      "|   |   |   |   |   |   |   |   |--- class: 3.0\n",
      "|   |   |   |   |   |   |   |--- feature_10 >  9.05\n",
      "|   |   |   |   |   |   |   |   |--- feature_10 <= 10.55\n",
      "|   |   |   |   |   |   |   |   |   |--- feature_1 <= 0.69\n",
      "|   |   |   |   |   |   |   |   |   |   |--- feature_10 <= 9.85\n",
      "|   |   |   |   |   |   |   |   |   |   |   |--- truncated branch of depth 7\n",
      "|   |   |   |   |   |   |   |   |   |   |--- feature_10 >  9.85\n",
      "|   |   |   |   |   |   |   |   |   |   |   |--- truncated branch of depth 2\n",
      "|   |   |   |   |   |   |   |   |   |--- feature_1 >  0.69\n",
      "|   |   |   |   |   |   |   |   |   |   |--- feature_0 <= 9.05\n",
      "|   |   |   |   |   |   |   |   |   |   |   |--- class: 2.0\n",
      "|   |   |   |   |   |   |   |   |   |   |--- feature_0 >  9.05\n",
      "|   |   |   |   |   |   |   |   |   |   |   |--- class: 3.0\n",
      "|   |   |   |   |   |   |   |   |--- feature_10 >  10.55\n",
      "|   |   |   |   |   |   |   |   |   |--- feature_3 <= 2.70\n",
      "|   |   |   |   |   |   |   |   |   |   |--- feature_3 <= 2.45\n",
      "|   |   |   |   |   |   |   |   |   |   |   |--- truncated branch of depth 2\n",
      "|   |   |   |   |   |   |   |   |   |   |--- feature_3 >  2.45\n",
      "|   |   |   |   |   |   |   |   |   |   |   |--- class: 2.0\n",
      "|   |   |   |   |   |   |   |   |   |--- feature_3 >  2.70\n",
      "|   |   |   |   |   |   |   |   |   |   |--- feature_5 <= 11.50\n",
      "|   |   |   |   |   |   |   |   |   |   |   |--- class: 1.0\n",
      "|   |   |   |   |   |   |   |   |   |   |--- feature_5 >  11.50\n",
      "|   |   |   |   |   |   |   |   |   |   |   |--- class: 3.0\n",
      "|   |   |   |   |   |--- feature_1 >  1.00\n",
      "|   |   |   |   |   |   |--- class: 1.0\n",
      "|--- feature_2 >  0.30\n",
      "|   |--- feature_6 <= 81.50\n",
      "|   |   |--- feature_1 <= 0.34\n",
      "|   |   |   |--- feature_2 <= 0.51\n",
      "|   |   |   |   |--- feature_10 <= 10.45\n",
      "|   |   |   |   |   |--- feature_7 <= 1.00\n",
      "|   |   |   |   |   |   |--- feature_6 <= 64.00\n",
      "|   |   |   |   |   |   |   |--- class: 3.0\n",
      "|   |   |   |   |   |   |--- feature_6 >  64.00\n",
      "|   |   |   |   |   |   |   |--- feature_0 <= 8.85\n",
      "|   |   |   |   |   |   |   |   |--- class: 2.0\n",
      "|   |   |   |   |   |   |   |--- feature_0 >  8.85\n",
      "|   |   |   |   |   |   |   |   |--- class: 4.0\n",
      "|   |   |   |   |   |--- feature_7 >  1.00\n",
      "|   |   |   |   |   |   |--- feature_3 <= 8.85\n",
      "|   |   |   |   |   |   |   |--- class: 4.0\n",
      "|   |   |   |   |   |   |--- feature_3 >  8.85\n",
      "|   |   |   |   |   |   |   |--- class: 2.0\n",
      "|   |   |   |   |--- feature_10 >  10.45\n",
      "|   |   |   |   |   |--- feature_4 <= 0.09\n",
      "|   |   |   |   |   |   |--- feature_5 <= 13.50\n",
      "|   |   |   |   |   |   |   |--- feature_7 <= 1.00\n",
      "|   |   |   |   |   |   |   |   |--- feature_9 <= 0.53\n",
      "|   |   |   |   |   |   |   |   |   |--- class: 3.0\n",
      "|   |   |   |   |   |   |   |   |--- feature_9 >  0.53\n",
      "|   |   |   |   |   |   |   |   |   |--- class: 4.0\n",
      "|   |   |   |   |   |   |   |--- feature_7 >  1.00\n",
      "|   |   |   |   |   |   |   |   |--- feature_8 <= 3.35\n",
      "|   |   |   |   |   |   |   |   |   |--- feature_3 <= 2.30\n",
      "|   |   |   |   |   |   |   |   |   |   |--- feature_10 <= 10.95\n",
      "|   |   |   |   |   |   |   |   |   |   |   |--- class: 4.0\n",
      "|   |   |   |   |   |   |   |   |   |   |--- feature_10 >  10.95\n",
      "|   |   |   |   |   |   |   |   |   |   |   |--- truncated branch of depth 3\n",
      "|   |   |   |   |   |   |   |   |   |--- feature_3 >  2.30\n",
      "|   |   |   |   |   |   |   |   |   |   |--- feature_7 <= 1.00\n",
      "|   |   |   |   |   |   |   |   |   |   |   |--- class: 4.0\n",
      "|   |   |   |   |   |   |   |   |   |   |--- feature_7 >  1.00\n",
      "|   |   |   |   |   |   |   |   |   |   |   |--- class: 3.0\n",
      "|   |   |   |   |   |   |   |   |--- feature_8 >  3.35\n",
      "|   |   |   |   |   |   |   |   |   |--- feature_0 <= 8.25\n",
      "|   |   |   |   |   |   |   |   |   |   |--- class: 3.0\n",
      "|   |   |   |   |   |   |   |   |   |--- feature_0 >  8.25\n",
      "|   |   |   |   |   |   |   |   |   |   |--- class: 2.0\n",
      "|   |   |   |   |   |   |--- feature_5 >  13.50\n",
      "|   |   |   |   |   |   |   |--- feature_10 <= 11.55\n",
      "|   |   |   |   |   |   |   |   |--- feature_7 <= 1.00\n",
      "|   |   |   |   |   |   |   |   |   |--- feature_9 <= 0.78\n",
      "|   |   |   |   |   |   |   |   |   |   |--- class: 3.0\n",
      "|   |   |   |   |   |   |   |   |   |--- feature_9 >  0.78\n",
      "|   |   |   |   |   |   |   |   |   |   |--- feature_8 <= 3.25\n",
      "|   |   |   |   |   |   |   |   |   |   |   |--- class: 4.0\n",
      "|   |   |   |   |   |   |   |   |   |   |--- feature_8 >  3.25\n",
      "|   |   |   |   |   |   |   |   |   |   |   |--- class: 2.0\n",
      "|   |   |   |   |   |   |   |   |--- feature_7 >  1.00\n",
      "|   |   |   |   |   |   |   |   |   |--- class: 4.0\n",
      "|   |   |   |   |   |   |   |--- feature_10 >  11.55\n",
      "|   |   |   |   |   |   |   |   |--- class: 3.0\n",
      "|   |   |   |   |   |--- feature_4 >  0.09\n",
      "|   |   |   |   |   |   |--- feature_9 <= 0.66\n",
      "|   |   |   |   |   |   |   |--- class: 3.0\n",
      "|   |   |   |   |   |   |--- feature_9 >  0.66\n",
      "|   |   |   |   |   |   |   |--- feature_9 <= 0.75\n",
      "|   |   |   |   |   |   |   |   |--- class: 2.0\n",
      "|   |   |   |   |   |   |   |--- feature_9 >  0.75\n",
      "|   |   |   |   |   |   |   |   |--- class: 4.0\n",
      "|   |   |   |--- feature_2 >  0.51\n",
      "|   |   |   |   |--- feature_10 <= 9.85\n",
      "|   |   |   |   |   |--- feature_6 <= 58.50\n",
      "|   |   |   |   |   |   |--- class: 2.0\n",
      "|   |   |   |   |   |--- feature_6 >  58.50\n",
      "|   |   |   |   |   |   |--- class: 3.0\n",
      "|   |   |   |   |--- feature_10 >  9.85\n",
      "|   |   |   |   |   |--- feature_1 <= 0.24\n",
      "|   |   |   |   |   |   |--- feature_3 <= 1.85\n",
      "|   |   |   |   |   |   |   |--- class: 3.0\n",
      "|   |   |   |   |   |   |--- feature_3 >  1.85\n",
      "|   |   |   |   |   |   |   |--- class: 2.0\n",
      "|   |   |   |   |   |--- feature_1 >  0.24\n",
      "|   |   |   |   |   |   |--- feature_4 <= 0.11\n",
      "|   |   |   |   |   |   |   |--- feature_10 <= 10.15\n",
      "|   |   |   |   |   |   |   |   |--- class: 3.0\n",
      "|   |   |   |   |   |   |   |--- feature_10 >  10.15\n",
      "|   |   |   |   |   |   |   |   |--- feature_0 <= 8.70\n",
      "|   |   |   |   |   |   |   |   |   |--- class: 3.0\n",
      "|   |   |   |   |   |   |   |   |--- feature_0 >  8.70\n",
      "|   |   |   |   |   |   |   |   |   |--- class: 4.0\n",
      "|   |   |   |   |   |   |--- feature_4 >  0.11\n",
      "|   |   |   |   |   |   |   |--- feature_6 <= 27.00\n",
      "|   |   |   |   |   |   |   |   |--- class: 4.0\n",
      "|   |   |   |   |   |   |   |--- feature_6 >  27.00\n",
      "|   |   |   |   |   |   |   |   |--- class: 3.0\n",
      "|   |   |--- feature_1 >  0.34\n",
      "|   |   |   |--- feature_10 <= 11.55\n",
      "|   |   |   |   |--- feature_8 <= 3.26\n",
      "|   |   |   |   |   |--- feature_9 <= 0.55\n",
      "|   |   |   |   |   |   |--- feature_1 <= 0.56\n",
      "|   |   |   |   |   |   |   |--- class: 2.0\n",
      "|   |   |   |   |   |   |--- feature_1 >  0.56\n",
      "|   |   |   |   |   |   |   |--- feature_1 <= 0.64\n",
      "|   |   |   |   |   |   |   |   |--- class: 1.0\n",
      "|   |   |   |   |   |   |   |--- feature_1 >  0.64\n",
      "|   |   |   |   |   |   |   |   |--- class: 2.0\n",
      "|   |   |   |   |   |--- feature_9 >  0.55\n",
      "|   |   |   |   |   |   |--- feature_7 <= 1.00\n",
      "|   |   |   |   |   |   |   |--- class: 4.0\n",
      "|   |   |   |   |   |   |--- feature_7 >  1.00\n",
      "|   |   |   |   |   |   |   |--- feature_6 <= 64.50\n",
      "|   |   |   |   |   |   |   |   |--- feature_4 <= 0.09\n",
      "|   |   |   |   |   |   |   |   |   |--- feature_5 <= 4.00\n",
      "|   |   |   |   |   |   |   |   |   |   |--- class: 2.0\n",
      "|   |   |   |   |   |   |   |   |   |--- feature_5 >  4.00\n",
      "|   |   |   |   |   |   |   |   |   |   |--- feature_6 <= 16.00\n",
      "|   |   |   |   |   |   |   |   |   |   |   |--- truncated branch of depth 3\n",
      "|   |   |   |   |   |   |   |   |   |   |--- feature_6 >  16.00\n",
      "|   |   |   |   |   |   |   |   |   |   |   |--- truncated branch of depth 8\n",
      "|   |   |   |   |   |   |   |   |--- feature_4 >  0.09\n",
      "|   |   |   |   |   |   |   |   |   |--- feature_6 <= 19.50\n",
      "|   |   |   |   |   |   |   |   |   |   |--- feature_10 <= 8.95\n",
      "|   |   |   |   |   |   |   |   |   |   |   |--- class: 0.0\n",
      "|   |   |   |   |   |   |   |   |   |   |--- feature_10 >  8.95\n",
      "|   |   |   |   |   |   |   |   |   |   |   |--- class: 3.0\n",
      "|   |   |   |   |   |   |   |   |   |--- feature_6 >  19.50\n",
      "|   |   |   |   |   |   |   |   |   |   |--- feature_8 <= 2.91\n",
      "|   |   |   |   |   |   |   |   |   |   |   |--- class: 3.0\n",
      "|   |   |   |   |   |   |   |   |   |   |--- feature_8 >  2.91\n",
      "|   |   |   |   |   |   |   |   |   |   |   |--- truncated branch of depth 5\n",
      "|   |   |   |   |   |   |   |--- feature_6 >  64.50\n",
      "|   |   |   |   |   |   |   |   |--- feature_8 <= 2.89\n",
      "|   |   |   |   |   |   |   |   |   |--- class: 1.0\n",
      "|   |   |   |   |   |   |   |   |--- feature_8 >  2.89\n",
      "|   |   |   |   |   |   |   |   |   |--- feature_6 <= 76.50\n",
      "|   |   |   |   |   |   |   |   |   |   |--- feature_5 <= 24.00\n",
      "|   |   |   |   |   |   |   |   |   |   |   |--- class: 2.0\n",
      "|   |   |   |   |   |   |   |   |   |   |--- feature_5 >  24.00\n",
      "|   |   |   |   |   |   |   |   |   |   |   |--- truncated branch of depth 2\n",
      "|   |   |   |   |   |   |   |   |   |--- feature_6 >  76.50\n",
      "|   |   |   |   |   |   |   |   |   |   |--- class: 3.0\n",
      "|   |   |   |   |--- feature_8 >  3.26\n",
      "|   |   |   |   |   |--- feature_7 <= 1.00\n",
      "|   |   |   |   |   |   |--- feature_4 <= 0.06\n",
      "|   |   |   |   |   |   |   |--- class: 4.0\n",
      "|   |   |   |   |   |   |--- feature_4 >  0.06\n",
      "|   |   |   |   |   |   |   |--- feature_3 <= 2.75\n",
      "|   |   |   |   |   |   |   |   |--- feature_9 <= 0.93\n",
      "|   |   |   |   |   |   |   |   |   |--- feature_4 <= 0.08\n",
      "|   |   |   |   |   |   |   |   |   |   |--- feature_7 <= 1.00\n",
      "|   |   |   |   |   |   |   |   |   |   |   |--- truncated branch of depth 2\n",
      "|   |   |   |   |   |   |   |   |   |   |--- feature_7 >  1.00\n",
      "|   |   |   |   |   |   |   |   |   |   |   |--- class: 3.0\n",
      "|   |   |   |   |   |   |   |   |   |--- feature_4 >  0.08\n",
      "|   |   |   |   |   |   |   |   |   |   |--- feature_9 <= 0.57\n",
      "|   |   |   |   |   |   |   |   |   |   |   |--- truncated branch of depth 3\n",
      "|   |   |   |   |   |   |   |   |   |   |--- feature_9 >  0.57\n",
      "|   |   |   |   |   |   |   |   |   |   |   |--- class: 3.0\n",
      "|   |   |   |   |   |   |   |   |--- feature_9 >  0.93\n",
      "|   |   |   |   |   |   |   |   |   |--- class: 2.0\n",
      "|   |   |   |   |   |   |   |--- feature_3 >  2.75\n",
      "|   |   |   |   |   |   |   |   |--- feature_5 <= 25.00\n",
      "|   |   |   |   |   |   |   |   |   |--- feature_1 <= 0.44\n",
      "|   |   |   |   |   |   |   |   |   |   |--- class: 3.0\n",
      "|   |   |   |   |   |   |   |   |   |--- feature_1 >  0.44\n",
      "|   |   |   |   |   |   |   |   |   |   |--- class: 4.0\n",
      "|   |   |   |   |   |   |   |   |--- feature_5 >  25.00\n",
      "|   |   |   |   |   |   |   |   |   |--- class: 2.0\n",
      "|   |   |   |   |   |--- feature_7 >  1.00\n",
      "|   |   |   |   |   |   |--- feature_4 <= 0.07\n",
      "|   |   |   |   |   |   |   |--- class: 4.0\n",
      "|   |   |   |   |   |   |--- feature_4 >  0.07\n",
      "|   |   |   |   |   |   |   |--- feature_5 <= 34.00\n",
      "|   |   |   |   |   |   |   |   |--- feature_1 <= 0.47\n",
      "|   |   |   |   |   |   |   |   |   |--- feature_3 <= 2.00\n",
      "|   |   |   |   |   |   |   |   |   |   |--- class: 3.0\n",
      "|   |   |   |   |   |   |   |   |   |--- feature_3 >  2.00\n",
      "|   |   |   |   |   |   |   |   |   |   |--- class: 2.0\n",
      "|   |   |   |   |   |   |   |   |--- feature_1 >  0.47\n",
      "|   |   |   |   |   |   |   |   |   |--- feature_4 <= 0.08\n",
      "|   |   |   |   |   |   |   |   |   |   |--- feature_5 <= 15.00\n",
      "|   |   |   |   |   |   |   |   |   |   |   |--- class: 1.0\n",
      "|   |   |   |   |   |   |   |   |   |   |--- feature_5 >  15.00\n",
      "|   |   |   |   |   |   |   |   |   |   |   |--- class: 2.0\n",
      "|   |   |   |   |   |   |   |   |   |--- feature_4 >  0.08\n",
      "|   |   |   |   |   |   |   |   |   |   |--- class: 3.0\n",
      "|   |   |   |   |   |   |   |--- feature_5 >  34.00\n",
      "|   |   |   |   |   |   |   |   |--- class: 1.0\n",
      "|   |   |   |--- feature_10 >  11.55\n",
      "|   |   |   |   |--- feature_4 <= 0.11\n",
      "|   |   |   |   |   |--- feature_1 <= 0.51\n",
      "|   |   |   |   |   |   |--- feature_7 <= 0.99\n",
      "|   |   |   |   |   |   |   |--- feature_9 <= 0.68\n",
      "|   |   |   |   |   |   |   |   |--- class: 3.0\n",
      "|   |   |   |   |   |   |   |--- feature_9 >  0.68\n",
      "|   |   |   |   |   |   |   |   |--- feature_7 <= 0.99\n",
      "|   |   |   |   |   |   |   |   |   |--- class: 4.0\n",
      "|   |   |   |   |   |   |   |   |--- feature_7 >  0.99\n",
      "|   |   |   |   |   |   |   |   |   |--- feature_5 <= 14.00\n",
      "|   |   |   |   |   |   |   |   |   |   |--- class: 4.0\n",
      "|   |   |   |   |   |   |   |   |   |--- feature_5 >  14.00\n",
      "|   |   |   |   |   |   |   |   |   |   |--- class: 3.0\n",
      "|   |   |   |   |   |   |--- feature_7 >  0.99\n",
      "|   |   |   |   |   |   |   |--- feature_10 <= 12.25\n",
      "|   |   |   |   |   |   |   |   |--- feature_5 <= 6.50\n",
      "|   |   |   |   |   |   |   |   |   |--- class: 4.0\n",
      "|   |   |   |   |   |   |   |   |--- feature_5 >  6.50\n",
      "|   |   |   |   |   |   |   |   |   |--- feature_4 <= 0.10\n",
      "|   |   |   |   |   |   |   |   |   |   |--- class: 4.0\n",
      "|   |   |   |   |   |   |   |   |   |--- feature_4 >  0.10\n",
      "|   |   |   |   |   |   |   |   |   |   |--- class: 3.0\n",
      "|   |   |   |   |   |   |   |--- feature_10 >  12.25\n",
      "|   |   |   |   |   |   |   |   |--- feature_9 <= 0.82\n",
      "|   |   |   |   |   |   |   |   |   |--- feature_9 <= 0.62\n",
      "|   |   |   |   |   |   |   |   |   |   |--- class: 4.0\n",
      "|   |   |   |   |   |   |   |   |   |--- feature_9 >  0.62\n",
      "|   |   |   |   |   |   |   |   |   |   |--- class: 3.0\n",
      "|   |   |   |   |   |   |   |   |--- feature_9 >  0.82\n",
      "|   |   |   |   |   |   |   |   |   |--- class: 4.0\n",
      "|   |   |   |   |   |--- feature_1 >  0.51\n",
      "|   |   |   |   |   |   |--- feature_10 <= 13.35\n",
      "|   |   |   |   |   |   |   |--- feature_6 <= 38.00\n",
      "|   |   |   |   |   |   |   |   |--- class: 3.0\n",
      "|   |   |   |   |   |   |   |--- feature_6 >  38.00\n",
      "|   |   |   |   |   |   |   |   |--- feature_2 <= 0.44\n",
      "|   |   |   |   |   |   |   |   |   |--- class: 3.0\n",
      "|   |   |   |   |   |   |   |   |--- feature_2 >  0.44\n",
      "|   |   |   |   |   |   |   |   |   |--- class: 4.0\n",
      "|   |   |   |   |   |   |--- feature_10 >  13.35\n",
      "|   |   |   |   |   |   |   |--- class: 5.0\n",
      "|   |   |   |   |--- feature_4 >  0.11\n",
      "|   |   |   |   |   |--- class: 3.0\n",
      "|   |--- feature_6 >  81.50\n",
      "|   |   |--- feature_1 <= 0.31\n",
      "|   |   |   |--- feature_6 <= 193.50\n",
      "|   |   |   |   |--- class: 3.0\n",
      "|   |   |   |--- feature_6 >  193.50\n",
      "|   |   |   |   |--- class: 4.0\n",
      "|   |   |--- feature_1 >  0.31\n",
      "|   |   |   |--- feature_10 <= 11.30\n",
      "|   |   |   |   |--- feature_2 <= 0.44\n",
      "|   |   |   |   |   |--- feature_7 <= 1.00\n",
      "|   |   |   |   |   |   |--- feature_6 <= 83.00\n",
      "|   |   |   |   |   |   |   |--- class: 3.0\n",
      "|   |   |   |   |   |   |--- feature_6 >  83.00\n",
      "|   |   |   |   |   |   |   |--- class: 2.0\n",
      "|   |   |   |   |   |--- feature_7 >  1.00\n",
      "|   |   |   |   |   |   |--- feature_7 <= 1.00\n",
      "|   |   |   |   |   |   |   |--- class: 3.0\n",
      "|   |   |   |   |   |   |--- feature_7 >  1.00\n",
      "|   |   |   |   |   |   |   |--- class: 2.0\n",
      "|   |   |   |   |--- feature_2 >  0.44\n",
      "|   |   |   |   |   |--- class: 2.0\n",
      "|   |   |   |--- feature_10 >  11.30\n",
      "|   |   |   |   |--- class: 3.0\n",
      "\n"
     ]
    }
   ],
   "source": [
    "from sklearn.tree import export_text\n",
    "print(export_text(model.estimators_[0]))"
   ]
  },
  {
   "cell_type": "code",
   "execution_count": 49,
   "id": "2d8f786f",
   "metadata": {},
   "outputs": [],
   "source": [
    "from sklearn.svm import SVC,SVR"
   ]
  },
  {
   "cell_type": "code",
   "execution_count": 50,
   "id": "fd39a7f6",
   "metadata": {},
   "outputs": [
    {
     "data": {
      "text/plain": [
       "SVC()"
      ]
     },
     "execution_count": 50,
     "metadata": {},
     "output_type": "execute_result"
    }
   ],
   "source": [
    "model = SVC()\n",
    "model.fit(X_train,Y_train)"
   ]
  },
  {
   "cell_type": "code",
   "execution_count": 19,
   "id": "2d89977c",
   "metadata": {},
   "outputs": [],
   "source": [
    "Y_pred = model.predict(X_test)"
   ]
  },
  {
   "cell_type": "code",
   "execution_count": 20,
   "id": "97058c74",
   "metadata": {},
   "outputs": [
    {
     "name": "stdout",
     "output_type": "stream",
     "text": [
      "0.46458333333333335\n"
     ]
    }
   ],
   "source": [
    "print(accuracy_score(Y_test,Y_pred))"
   ]
  },
  {
   "cell_type": "code",
   "execution_count": 51,
   "id": "4da95d3c",
   "metadata": {},
   "outputs": [],
   "source": [
    "from sklearn.neighbors import KNeighborsClassifier"
   ]
  },
  {
   "cell_type": "code",
   "execution_count": 54,
   "id": "67e8b065",
   "metadata": {},
   "outputs": [
    {
     "name": "stdout",
     "output_type": "stream",
     "text": [
      "0.5145833333333333\n"
     ]
    },
    {
     "name": "stderr",
     "output_type": "stream",
     "text": [
      "C:\\Users\\Admin\\anaconda3\\lib\\site-packages\\sklearn\\neighbors\\_classification.py:228: FutureWarning: Unlike other reduction functions (e.g. `skew`, `kurtosis`), the default behavior of `mode` typically preserves the axis it acts along. In SciPy 1.11.0, this behavior will change: the default value of `keepdims` will become False, the `axis` over which the statistic is taken will be eliminated, and the value None will no longer be accepted. Set `keepdims` to True or False to avoid this warning.\n",
      "  mode, _ = stats.mode(_y[neigh_ind, k], axis=1)\n"
     ]
    }
   ],
   "source": [
    "model = KNeighborsClassifier(n_neighbors=10)\n",
    "model.fit(X_train,Y_train)\n",
    "Y_pred = model.predict(X_test)\n",
    "print(accuracy_score(Y_test,Y_pred))"
   ]
  },
  {
   "cell_type": "code",
   "execution_count": null,
   "id": "c1fcebdc",
   "metadata": {},
   "outputs": [],
   "source": []
  },
  {
   "cell_type": "code",
   "execution_count": null,
   "id": "2ecfa6a9",
   "metadata": {},
   "outputs": [],
   "source": []
  },
  {
   "cell_type": "code",
   "execution_count": 22,
   "id": "9d584bdb",
   "metadata": {},
   "outputs": [
    {
     "ename": "SyntaxError",
     "evalue": "invalid syntax (4149428179.py, line 1)",
     "output_type": "error",
     "traceback": [
      "\u001b[1;36m  File \u001b[1;32m\"C:\\Users\\Admin\\AppData\\Local\\Temp\\ipykernel_6508\\4149428179.py\"\u001b[1;36m, line \u001b[1;32m1\u001b[0m\n\u001b[1;33m    auto.def\u001b[0m\n\u001b[1;37m         ^\u001b[0m\n\u001b[1;31mSyntaxError\u001b[0m\u001b[1;31m:\u001b[0m invalid syntax\n"
     ]
    }
   ],
   "source": [
    "auto.def"
   ]
  },
  {
   "cell_type": "code",
   "execution_count": 23,
   "id": "ca80742c",
   "metadata": {},
   "outputs": [
    {
     "data": {
      "text/html": [
       "<div>\n",
       "<style scoped>\n",
       "    .dataframe tbody tr th:only-of-type {\n",
       "        vertical-align: middle;\n",
       "    }\n",
       "\n",
       "    .dataframe tbody tr th {\n",
       "        vertical-align: top;\n",
       "    }\n",
       "\n",
       "    .dataframe thead th {\n",
       "        text-align: right;\n",
       "    }\n",
       "</style>\n",
       "<table border=\"1\" class=\"dataframe\">\n",
       "  <thead>\n",
       "    <tr style=\"text-align: right;\">\n",
       "      <th></th>\n",
       "      <th>0</th>\n",
       "      <th>1</th>\n",
       "      <th>2</th>\n",
       "      <th>3</th>\n",
       "      <th>4</th>\n",
       "      <th>5</th>\n",
       "      <th>6</th>\n",
       "      <th>7</th>\n",
       "      <th>8</th>\n",
       "    </tr>\n",
       "  </thead>\n",
       "  <tbody>\n",
       "    <tr>\n",
       "      <th>0</th>\n",
       "      <td>18.0</td>\n",
       "      <td>8</td>\n",
       "      <td>307.0</td>\n",
       "      <td>130.0</td>\n",
       "      <td>3504.0</td>\n",
       "      <td>12.0</td>\n",
       "      <td>70</td>\n",
       "      <td>1</td>\n",
       "      <td>chevrolet chevelle malibu</td>\n",
       "    </tr>\n",
       "    <tr>\n",
       "      <th>1</th>\n",
       "      <td>15.0</td>\n",
       "      <td>8</td>\n",
       "      <td>350.0</td>\n",
       "      <td>165.0</td>\n",
       "      <td>3693.0</td>\n",
       "      <td>11.5</td>\n",
       "      <td>70</td>\n",
       "      <td>1</td>\n",
       "      <td>buick skylark 320</td>\n",
       "    </tr>\n",
       "    <tr>\n",
       "      <th>2</th>\n",
       "      <td>18.0</td>\n",
       "      <td>8</td>\n",
       "      <td>318.0</td>\n",
       "      <td>150.0</td>\n",
       "      <td>3436.0</td>\n",
       "      <td>11.0</td>\n",
       "      <td>70</td>\n",
       "      <td>1</td>\n",
       "      <td>plymouth satellite</td>\n",
       "    </tr>\n",
       "    <tr>\n",
       "      <th>3</th>\n",
       "      <td>16.0</td>\n",
       "      <td>8</td>\n",
       "      <td>304.0</td>\n",
       "      <td>150.0</td>\n",
       "      <td>3433.0</td>\n",
       "      <td>12.0</td>\n",
       "      <td>70</td>\n",
       "      <td>1</td>\n",
       "      <td>amc rebel sst</td>\n",
       "    </tr>\n",
       "    <tr>\n",
       "      <th>4</th>\n",
       "      <td>17.0</td>\n",
       "      <td>8</td>\n",
       "      <td>302.0</td>\n",
       "      <td>140.0</td>\n",
       "      <td>3449.0</td>\n",
       "      <td>10.5</td>\n",
       "      <td>70</td>\n",
       "      <td>1</td>\n",
       "      <td>ford torino</td>\n",
       "    </tr>\n",
       "  </tbody>\n",
       "</table>\n",
       "</div>"
      ],
      "text/plain": [
       "      0  1      2      3       4     5   6  7                          8\n",
       "0  18.0  8  307.0  130.0  3504.0  12.0  70  1  chevrolet chevelle malibu\n",
       "1  15.0  8  350.0  165.0  3693.0  11.5  70  1          buick skylark 320\n",
       "2  18.0  8  318.0  150.0  3436.0  11.0  70  1         plymouth satellite\n",
       "3  16.0  8  304.0  150.0  3433.0  12.0  70  1              amc rebel sst\n",
       "4  17.0  8  302.0  140.0  3449.0  10.5  70  1                ford torino"
      ]
     },
     "execution_count": 23,
     "metadata": {},
     "output_type": "execute_result"
    }
   ],
   "source": [
    "auto.head()"
   ]
  },
  {
   "cell_type": "code",
   "execution_count": 24,
   "id": "3bbfd9b6",
   "metadata": {},
   "outputs": [],
   "source": [
    "auto.columns = ['mpg',\n",
    "'cylinders',\n",
    "'displacement',\n",
    "'horsepower',\n",
    "'weight',\n",
    "'acceleration',\n",
    "'model',\n",
    "'origin',\n",
    "'car'\n",
    "]"
   ]
  },
  {
   "cell_type": "code",
   "execution_count": 25,
   "id": "3eeebd8c",
   "metadata": {},
   "outputs": [],
   "source": [
    "from sklearn.preprocessing import LabelEncoder"
   ]
  },
  {
   "cell_type": "code",
   "execution_count": 28,
   "id": "63ad4d8b",
   "metadata": {},
   "outputs": [],
   "source": [
    "le = LabelEncoder()\n",
    "auto['car'] = le.fit_transform(auto['car'])"
   ]
  },
  {
   "cell_type": "code",
   "execution_count": 29,
   "id": "6671c7f9",
   "metadata": {},
   "outputs": [
    {
     "name": "stderr",
     "output_type": "stream",
     "text": [
      "C:\\Users\\Admin\\AppData\\Local\\Temp\\ipykernel_6508\\175874402.py:1: FutureWarning: The default value of regex will change from True to False in a future version. In addition, single character regular expressions will *not* be treated as literal strings when regex=True.\n",
      "  auto['horsepower']=auto['horsepower'].str.replace(\"?\",\"0\")\n"
     ]
    }
   ],
   "source": [
    "auto['horsepower']=auto['horsepower'].str.replace(\"?\",\"0\")\n",
    "auto['horsepower'] = auto['horsepower'].astype(float)"
   ]
  },
  {
   "cell_type": "code",
   "execution_count": 30,
   "id": "cc375bc8",
   "metadata": {},
   "outputs": [],
   "source": [
    "X = auto.drop('mpg',axis=1)\n",
    "Y= auto['mpg']"
   ]
  },
  {
   "cell_type": "code",
   "execution_count": 31,
   "id": "6248cfa2",
   "metadata": {},
   "outputs": [],
   "source": [
    "X_train,X_test,Y_train,Y_test = train_test_split(X,Y,test_size=0.3,random_state=10)"
   ]
  },
  {
   "cell_type": "code",
   "execution_count": 36,
   "id": "7f8d8511",
   "metadata": {},
   "outputs": [
    {
     "ename": "ValueError",
     "evalue": "Expected 2D array, got 1D array instead:\narray=[31.  10.  29.5 18.6 26.  25.4 31.6 25.  22.  20.6 11.  19.9 15.  25.5\n 24.  17.  34.3 19.  15.5 19.8 31.  19.2 46.6 36.1 28.  24.3 17.  44.3\n 26.  36.  30.9 20.  15.  18.  23.9 26.6 19.2 12.  31.3 16.5 20.  24.\n 27.2 12.  14.  19.  23.  21.5 25.  29.  14.  18.2 38.  30.  26.  14.\n 34.5 25.  20.2 15.5 25.  29.  34.2 13.  16.  18.  28.  34.1 23.  36.4\n 27.  30.  30.5 33.5 28.  15.  17.5 18.  14.  31.  23.6 27.4 35.1 38.1\n 18.5 29.  27.  14.  22.3 17.  22.  17.7 15.  26.4 32.4 19.  27.  35.\n 24.  25.8 17.6 21.1 24.  18.  13.  19.4 20.2 16.  19.  33.  24.2 24.5\n 32.  25.  36.  28.4 25.  27.9 14.  15.  11.  13.  14.   9.  34.4 13.\n 23.7 16.  20.  27.  14.5 20.8 16.5 26.5 18.  30.  27.  28.  25.1 13.\n 16.  32.7 37.2 23.  38.  16.  15.  24.  16.2 27.5 15.  32.9 18.  29.9\n 43.4 29.8 23.  12.  11.  13.  25.  20.2 43.1 41.5 14.  26.8 31.  19.\n 38.  44.  12.  14.  29.  25.4 40.8 31.  23.  23.9 28.  19.1 30.  24.\n 28.1 23.8 17.  16.  26.  15.  20.  18.5 18.  29.8 26.  30.5 12.  16.\n 26.  26.  37.  33.5 27.2 19.  14.  26.  24.5 13.  32.8 16.  26.  23.2\n 15.5 28.  28.8 39.1 17.  16.  13.  19.4 16.9 20.6 29.5 18.  32.  19.\n 24.  34.5 32.  31.5 13.  36.  36.1 13.  22.  14.  27.  20.2 18.5 28.\n 25.  32.2 14.  15.  16.  17.6 30.  37.7 29.  21.5 14.  22.  36.  22.\n 23.  34.  18.  19.  13.  24.  22.4 39.  35.  30.  32.4 18.  29.  14.\n 20.5 13.  14.  27.  17.5 16.  20.  34.  37.  22.  20.  17.5].\nReshape your data either using array.reshape(-1, 1) if your data has a single feature or array.reshape(1, -1) if it contains a single sample.",
     "output_type": "error",
     "traceback": [
      "\u001b[1;31m---------------------------------------------------------------------------\u001b[0m",
      "\u001b[1;31mValueError\u001b[0m                                Traceback (most recent call last)",
      "\u001b[1;32m~\\AppData\\Local\\Temp\\ipykernel_6508\\1846526877.py\u001b[0m in \u001b[0;36m<module>\u001b[1;34m\u001b[0m\n\u001b[0;32m      1\u001b[0m \u001b[0mmodel\u001b[0m \u001b[1;33m=\u001b[0m \u001b[0mSVC\u001b[0m\u001b[1;33m(\u001b[0m\u001b[1;33m)\u001b[0m\u001b[1;33m\u001b[0m\u001b[1;33m\u001b[0m\u001b[0m\n\u001b[1;32m----> 2\u001b[1;33m \u001b[0mmodel\u001b[0m\u001b[1;33m.\u001b[0m\u001b[0mfit\u001b[0m\u001b[1;33m(\u001b[0m\u001b[0mY_train\u001b[0m\u001b[1;33m,\u001b[0m\u001b[0mX_train\u001b[0m\u001b[1;33m)\u001b[0m\u001b[1;33m\u001b[0m\u001b[1;33m\u001b[0m\u001b[0m\n\u001b[0m",
      "\u001b[1;32m~\\anaconda3\\lib\\site-packages\\sklearn\\svm\\_base.py\u001b[0m in \u001b[0;36mfit\u001b[1;34m(self, X, y, sample_weight)\u001b[0m\n\u001b[0;32m    188\u001b[0m             \u001b[0mcheck_consistent_length\u001b[0m\u001b[1;33m(\u001b[0m\u001b[0mX\u001b[0m\u001b[1;33m,\u001b[0m \u001b[0my\u001b[0m\u001b[1;33m)\u001b[0m\u001b[1;33m\u001b[0m\u001b[1;33m\u001b[0m\u001b[0m\n\u001b[0;32m    189\u001b[0m         \u001b[1;32melse\u001b[0m\u001b[1;33m:\u001b[0m\u001b[1;33m\u001b[0m\u001b[1;33m\u001b[0m\u001b[0m\n\u001b[1;32m--> 190\u001b[1;33m             X, y = self._validate_data(\n\u001b[0m\u001b[0;32m    191\u001b[0m                 \u001b[0mX\u001b[0m\u001b[1;33m,\u001b[0m\u001b[1;33m\u001b[0m\u001b[1;33m\u001b[0m\u001b[0m\n\u001b[0;32m    192\u001b[0m                 \u001b[0my\u001b[0m\u001b[1;33m,\u001b[0m\u001b[1;33m\u001b[0m\u001b[1;33m\u001b[0m\u001b[0m\n",
      "\u001b[1;32m~\\anaconda3\\lib\\site-packages\\sklearn\\base.py\u001b[0m in \u001b[0;36m_validate_data\u001b[1;34m(self, X, y, reset, validate_separately, **check_params)\u001b[0m\n\u001b[0;32m    579\u001b[0m                 \u001b[0my\u001b[0m \u001b[1;33m=\u001b[0m \u001b[0mcheck_array\u001b[0m\u001b[1;33m(\u001b[0m\u001b[0my\u001b[0m\u001b[1;33m,\u001b[0m \u001b[1;33m**\u001b[0m\u001b[0mcheck_y_params\u001b[0m\u001b[1;33m)\u001b[0m\u001b[1;33m\u001b[0m\u001b[1;33m\u001b[0m\u001b[0m\n\u001b[0;32m    580\u001b[0m             \u001b[1;32melse\u001b[0m\u001b[1;33m:\u001b[0m\u001b[1;33m\u001b[0m\u001b[1;33m\u001b[0m\u001b[0m\n\u001b[1;32m--> 581\u001b[1;33m                 \u001b[0mX\u001b[0m\u001b[1;33m,\u001b[0m \u001b[0my\u001b[0m \u001b[1;33m=\u001b[0m \u001b[0mcheck_X_y\u001b[0m\u001b[1;33m(\u001b[0m\u001b[0mX\u001b[0m\u001b[1;33m,\u001b[0m \u001b[0my\u001b[0m\u001b[1;33m,\u001b[0m \u001b[1;33m**\u001b[0m\u001b[0mcheck_params\u001b[0m\u001b[1;33m)\u001b[0m\u001b[1;33m\u001b[0m\u001b[1;33m\u001b[0m\u001b[0m\n\u001b[0m\u001b[0;32m    582\u001b[0m             \u001b[0mout\u001b[0m \u001b[1;33m=\u001b[0m \u001b[0mX\u001b[0m\u001b[1;33m,\u001b[0m \u001b[0my\u001b[0m\u001b[1;33m\u001b[0m\u001b[1;33m\u001b[0m\u001b[0m\n\u001b[0;32m    583\u001b[0m \u001b[1;33m\u001b[0m\u001b[0m\n",
      "\u001b[1;32m~\\anaconda3\\lib\\site-packages\\sklearn\\utils\\validation.py\u001b[0m in \u001b[0;36mcheck_X_y\u001b[1;34m(X, y, accept_sparse, accept_large_sparse, dtype, order, copy, force_all_finite, ensure_2d, allow_nd, multi_output, ensure_min_samples, ensure_min_features, y_numeric, estimator)\u001b[0m\n\u001b[0;32m    962\u001b[0m         \u001b[1;32mraise\u001b[0m \u001b[0mValueError\u001b[0m\u001b[1;33m(\u001b[0m\u001b[1;34m\"y cannot be None\"\u001b[0m\u001b[1;33m)\u001b[0m\u001b[1;33m\u001b[0m\u001b[1;33m\u001b[0m\u001b[0m\n\u001b[0;32m    963\u001b[0m \u001b[1;33m\u001b[0m\u001b[0m\n\u001b[1;32m--> 964\u001b[1;33m     X = check_array(\n\u001b[0m\u001b[0;32m    965\u001b[0m         \u001b[0mX\u001b[0m\u001b[1;33m,\u001b[0m\u001b[1;33m\u001b[0m\u001b[1;33m\u001b[0m\u001b[0m\n\u001b[0;32m    966\u001b[0m         \u001b[0maccept_sparse\u001b[0m\u001b[1;33m=\u001b[0m\u001b[0maccept_sparse\u001b[0m\u001b[1;33m,\u001b[0m\u001b[1;33m\u001b[0m\u001b[1;33m\u001b[0m\u001b[0m\n",
      "\u001b[1;32m~\\anaconda3\\lib\\site-packages\\sklearn\\utils\\validation.py\u001b[0m in \u001b[0;36mcheck_array\u001b[1;34m(array, accept_sparse, accept_large_sparse, dtype, order, copy, force_all_finite, ensure_2d, allow_nd, ensure_min_samples, ensure_min_features, estimator)\u001b[0m\n\u001b[0;32m    767\u001b[0m             \u001b[1;31m# If input is 1D raise error\u001b[0m\u001b[1;33m\u001b[0m\u001b[1;33m\u001b[0m\u001b[0m\n\u001b[0;32m    768\u001b[0m             \u001b[1;32mif\u001b[0m \u001b[0marray\u001b[0m\u001b[1;33m.\u001b[0m\u001b[0mndim\u001b[0m \u001b[1;33m==\u001b[0m \u001b[1;36m1\u001b[0m\u001b[1;33m:\u001b[0m\u001b[1;33m\u001b[0m\u001b[1;33m\u001b[0m\u001b[0m\n\u001b[1;32m--> 769\u001b[1;33m                 raise ValueError(\n\u001b[0m\u001b[0;32m    770\u001b[0m                     \u001b[1;34m\"Expected 2D array, got 1D array instead:\\narray={}.\\n\"\u001b[0m\u001b[1;33m\u001b[0m\u001b[1;33m\u001b[0m\u001b[0m\n\u001b[0;32m    771\u001b[0m                     \u001b[1;34m\"Reshape your data either using array.reshape(-1, 1) if \"\u001b[0m\u001b[1;33m\u001b[0m\u001b[1;33m\u001b[0m\u001b[0m\n",
      "\u001b[1;31mValueError\u001b[0m: Expected 2D array, got 1D array instead:\narray=[31.  10.  29.5 18.6 26.  25.4 31.6 25.  22.  20.6 11.  19.9 15.  25.5\n 24.  17.  34.3 19.  15.5 19.8 31.  19.2 46.6 36.1 28.  24.3 17.  44.3\n 26.  36.  30.9 20.  15.  18.  23.9 26.6 19.2 12.  31.3 16.5 20.  24.\n 27.2 12.  14.  19.  23.  21.5 25.  29.  14.  18.2 38.  30.  26.  14.\n 34.5 25.  20.2 15.5 25.  29.  34.2 13.  16.  18.  28.  34.1 23.  36.4\n 27.  30.  30.5 33.5 28.  15.  17.5 18.  14.  31.  23.6 27.4 35.1 38.1\n 18.5 29.  27.  14.  22.3 17.  22.  17.7 15.  26.4 32.4 19.  27.  35.\n 24.  25.8 17.6 21.1 24.  18.  13.  19.4 20.2 16.  19.  33.  24.2 24.5\n 32.  25.  36.  28.4 25.  27.9 14.  15.  11.  13.  14.   9.  34.4 13.\n 23.7 16.  20.  27.  14.5 20.8 16.5 26.5 18.  30.  27.  28.  25.1 13.\n 16.  32.7 37.2 23.  38.  16.  15.  24.  16.2 27.5 15.  32.9 18.  29.9\n 43.4 29.8 23.  12.  11.  13.  25.  20.2 43.1 41.5 14.  26.8 31.  19.\n 38.  44.  12.  14.  29.  25.4 40.8 31.  23.  23.9 28.  19.1 30.  24.\n 28.1 23.8 17.  16.  26.  15.  20.  18.5 18.  29.8 26.  30.5 12.  16.\n 26.  26.  37.  33.5 27.2 19.  14.  26.  24.5 13.  32.8 16.  26.  23.2\n 15.5 28.  28.8 39.1 17.  16.  13.  19.4 16.9 20.6 29.5 18.  32.  19.\n 24.  34.5 32.  31.5 13.  36.  36.1 13.  22.  14.  27.  20.2 18.5 28.\n 25.  32.2 14.  15.  16.  17.6 30.  37.7 29.  21.5 14.  22.  36.  22.\n 23.  34.  18.  19.  13.  24.  22.4 39.  35.  30.  32.4 18.  29.  14.\n 20.5 13.  14.  27.  17.5 16.  20.  34.  37.  22.  20.  17.5].\nReshape your data either using array.reshape(-1, 1) if your data has a single feature or array.reshape(1, -1) if it contains a single sample."
     ]
    }
   ],
   "source": [
    "model = SVC()\n",
    "model.fit(Y_train,X_train)"
   ]
  },
  {
   "cell_type": "code",
   "execution_count": 33,
   "id": "21b4852e",
   "metadata": {},
   "outputs": [],
   "source": [
    "X_train,X_test,Y_train,Y_test = train_test_split(X,Y,test_size=0.3,random_state=10)"
   ]
  },
  {
   "cell_type": "code",
   "execution_count": 34,
   "id": "0e21f40b",
   "metadata": {},
   "outputs": [],
   "source": [
    "model = SVC()"
   ]
  },
  {
   "cell_type": "code",
   "execution_count": 35,
   "id": "d9cbe3dc",
   "metadata": {},
   "outputs": [
    {
     "ename": "ValueError",
     "evalue": "Unknown label type: 'continuous'",
     "output_type": "error",
     "traceback": [
      "\u001b[1;31m---------------------------------------------------------------------------\u001b[0m",
      "\u001b[1;31mValueError\u001b[0m                                Traceback (most recent call last)",
      "\u001b[1;32m~\\AppData\\Local\\Temp\\ipykernel_6508\\4153405994.py\u001b[0m in \u001b[0;36m<module>\u001b[1;34m\u001b[0m\n\u001b[1;32m----> 1\u001b[1;33m \u001b[0mmodel\u001b[0m\u001b[1;33m.\u001b[0m\u001b[0mfit\u001b[0m\u001b[1;33m(\u001b[0m\u001b[0mX_train\u001b[0m\u001b[1;33m,\u001b[0m\u001b[0mY_train\u001b[0m\u001b[1;33m)\u001b[0m\u001b[1;33m\u001b[0m\u001b[1;33m\u001b[0m\u001b[0m\n\u001b[0m",
      "\u001b[1;32m~\\anaconda3\\lib\\site-packages\\sklearn\\svm\\_base.py\u001b[0m in \u001b[0;36mfit\u001b[1;34m(self, X, y, sample_weight)\u001b[0m\n\u001b[0;32m    197\u001b[0m             )\n\u001b[0;32m    198\u001b[0m \u001b[1;33m\u001b[0m\u001b[0m\n\u001b[1;32m--> 199\u001b[1;33m         \u001b[0my\u001b[0m \u001b[1;33m=\u001b[0m \u001b[0mself\u001b[0m\u001b[1;33m.\u001b[0m\u001b[0m_validate_targets\u001b[0m\u001b[1;33m(\u001b[0m\u001b[0my\u001b[0m\u001b[1;33m)\u001b[0m\u001b[1;33m\u001b[0m\u001b[1;33m\u001b[0m\u001b[0m\n\u001b[0m\u001b[0;32m    200\u001b[0m \u001b[1;33m\u001b[0m\u001b[0m\n\u001b[0;32m    201\u001b[0m         sample_weight = np.asarray(\n",
      "\u001b[1;32m~\\anaconda3\\lib\\site-packages\\sklearn\\svm\\_base.py\u001b[0m in \u001b[0;36m_validate_targets\u001b[1;34m(self, y)\u001b[0m\n\u001b[0;32m    714\u001b[0m     \u001b[1;32mdef\u001b[0m \u001b[0m_validate_targets\u001b[0m\u001b[1;33m(\u001b[0m\u001b[0mself\u001b[0m\u001b[1;33m,\u001b[0m \u001b[0my\u001b[0m\u001b[1;33m)\u001b[0m\u001b[1;33m:\u001b[0m\u001b[1;33m\u001b[0m\u001b[1;33m\u001b[0m\u001b[0m\n\u001b[0;32m    715\u001b[0m         \u001b[0my_\u001b[0m \u001b[1;33m=\u001b[0m \u001b[0mcolumn_or_1d\u001b[0m\u001b[1;33m(\u001b[0m\u001b[0my\u001b[0m\u001b[1;33m,\u001b[0m \u001b[0mwarn\u001b[0m\u001b[1;33m=\u001b[0m\u001b[1;32mTrue\u001b[0m\u001b[1;33m)\u001b[0m\u001b[1;33m\u001b[0m\u001b[1;33m\u001b[0m\u001b[0m\n\u001b[1;32m--> 716\u001b[1;33m         \u001b[0mcheck_classification_targets\u001b[0m\u001b[1;33m(\u001b[0m\u001b[0my\u001b[0m\u001b[1;33m)\u001b[0m\u001b[1;33m\u001b[0m\u001b[1;33m\u001b[0m\u001b[0m\n\u001b[0m\u001b[0;32m    717\u001b[0m         \u001b[0mcls\u001b[0m\u001b[1;33m,\u001b[0m \u001b[0my\u001b[0m \u001b[1;33m=\u001b[0m \u001b[0mnp\u001b[0m\u001b[1;33m.\u001b[0m\u001b[0munique\u001b[0m\u001b[1;33m(\u001b[0m\u001b[0my_\u001b[0m\u001b[1;33m,\u001b[0m \u001b[0mreturn_inverse\u001b[0m\u001b[1;33m=\u001b[0m\u001b[1;32mTrue\u001b[0m\u001b[1;33m)\u001b[0m\u001b[1;33m\u001b[0m\u001b[1;33m\u001b[0m\u001b[0m\n\u001b[0;32m    718\u001b[0m         \u001b[0mself\u001b[0m\u001b[1;33m.\u001b[0m\u001b[0mclass_weight_\u001b[0m \u001b[1;33m=\u001b[0m \u001b[0mcompute_class_weight\u001b[0m\u001b[1;33m(\u001b[0m\u001b[0mself\u001b[0m\u001b[1;33m.\u001b[0m\u001b[0mclass_weight\u001b[0m\u001b[1;33m,\u001b[0m \u001b[0mclasses\u001b[0m\u001b[1;33m=\u001b[0m\u001b[0mcls\u001b[0m\u001b[1;33m,\u001b[0m \u001b[0my\u001b[0m\u001b[1;33m=\u001b[0m\u001b[0my_\u001b[0m\u001b[1;33m)\u001b[0m\u001b[1;33m\u001b[0m\u001b[1;33m\u001b[0m\u001b[0m\n",
      "\u001b[1;32m~\\anaconda3\\lib\\site-packages\\sklearn\\utils\\multiclass.py\u001b[0m in \u001b[0;36mcheck_classification_targets\u001b[1;34m(y)\u001b[0m\n\u001b[0;32m    195\u001b[0m         \u001b[1;34m\"multilabel-sequences\"\u001b[0m\u001b[1;33m,\u001b[0m\u001b[1;33m\u001b[0m\u001b[1;33m\u001b[0m\u001b[0m\n\u001b[0;32m    196\u001b[0m     ]:\n\u001b[1;32m--> 197\u001b[1;33m         \u001b[1;32mraise\u001b[0m \u001b[0mValueError\u001b[0m\u001b[1;33m(\u001b[0m\u001b[1;34m\"Unknown label type: %r\"\u001b[0m \u001b[1;33m%\u001b[0m \u001b[0my_type\u001b[0m\u001b[1;33m)\u001b[0m\u001b[1;33m\u001b[0m\u001b[1;33m\u001b[0m\u001b[0m\n\u001b[0m\u001b[0;32m    198\u001b[0m \u001b[1;33m\u001b[0m\u001b[0m\n\u001b[0;32m    199\u001b[0m \u001b[1;33m\u001b[0m\u001b[0m\n",
      "\u001b[1;31mValueError\u001b[0m: Unknown label type: 'continuous'"
     ]
    }
   ],
   "source": [
    "model.fit(X_train,Y_train)"
   ]
  },
  {
   "cell_type": "code",
   "execution_count": 38,
   "id": "bf5b8e2b",
   "metadata": {},
   "outputs": [],
   "source": [
    "model = RandomForestClassifier()\n"
   ]
  },
  {
   "cell_type": "code",
   "execution_count": 39,
   "id": "6710313c",
   "metadata": {},
   "outputs": [
    {
     "ename": "ValueError",
     "evalue": "Unknown label type: 'continuous'",
     "output_type": "error",
     "traceback": [
      "\u001b[1;31m---------------------------------------------------------------------------\u001b[0m",
      "\u001b[1;31mValueError\u001b[0m                                Traceback (most recent call last)",
      "\u001b[1;32m~\\AppData\\Local\\Temp\\ipykernel_6508\\625564832.py\u001b[0m in \u001b[0;36m<module>\u001b[1;34m\u001b[0m\n\u001b[1;32m----> 1\u001b[1;33m \u001b[0mmodel\u001b[0m\u001b[1;33m.\u001b[0m\u001b[0mfit\u001b[0m\u001b[1;33m(\u001b[0m\u001b[0mX_train\u001b[0m\u001b[1;33m,\u001b[0m\u001b[0mY_train\u001b[0m\u001b[1;33m)\u001b[0m\u001b[1;33m\u001b[0m\u001b[1;33m\u001b[0m\u001b[0m\n\u001b[0m",
      "\u001b[1;32m~\\anaconda3\\lib\\site-packages\\sklearn\\ensemble\\_forest.py\u001b[0m in \u001b[0;36mfit\u001b[1;34m(self, X, y, sample_weight)\u001b[0m\n\u001b[0;32m    365\u001b[0m         \u001b[0mself\u001b[0m\u001b[1;33m.\u001b[0m\u001b[0mn_outputs_\u001b[0m \u001b[1;33m=\u001b[0m \u001b[0my\u001b[0m\u001b[1;33m.\u001b[0m\u001b[0mshape\u001b[0m\u001b[1;33m[\u001b[0m\u001b[1;36m1\u001b[0m\u001b[1;33m]\u001b[0m\u001b[1;33m\u001b[0m\u001b[1;33m\u001b[0m\u001b[0m\n\u001b[0;32m    366\u001b[0m \u001b[1;33m\u001b[0m\u001b[0m\n\u001b[1;32m--> 367\u001b[1;33m         \u001b[0my\u001b[0m\u001b[1;33m,\u001b[0m \u001b[0mexpanded_class_weight\u001b[0m \u001b[1;33m=\u001b[0m \u001b[0mself\u001b[0m\u001b[1;33m.\u001b[0m\u001b[0m_validate_y_class_weight\u001b[0m\u001b[1;33m(\u001b[0m\u001b[0my\u001b[0m\u001b[1;33m)\u001b[0m\u001b[1;33m\u001b[0m\u001b[1;33m\u001b[0m\u001b[0m\n\u001b[0m\u001b[0;32m    368\u001b[0m \u001b[1;33m\u001b[0m\u001b[0m\n\u001b[0;32m    369\u001b[0m         \u001b[1;32mif\u001b[0m \u001b[0mgetattr\u001b[0m\u001b[1;33m(\u001b[0m\u001b[0my\u001b[0m\u001b[1;33m,\u001b[0m \u001b[1;34m\"dtype\"\u001b[0m\u001b[1;33m,\u001b[0m \u001b[1;32mNone\u001b[0m\u001b[1;33m)\u001b[0m \u001b[1;33m!=\u001b[0m \u001b[0mDOUBLE\u001b[0m \u001b[1;32mor\u001b[0m \u001b[1;32mnot\u001b[0m \u001b[0my\u001b[0m\u001b[1;33m.\u001b[0m\u001b[0mflags\u001b[0m\u001b[1;33m.\u001b[0m\u001b[0mcontiguous\u001b[0m\u001b[1;33m:\u001b[0m\u001b[1;33m\u001b[0m\u001b[1;33m\u001b[0m\u001b[0m\n",
      "\u001b[1;32m~\\anaconda3\\lib\\site-packages\\sklearn\\ensemble\\_forest.py\u001b[0m in \u001b[0;36m_validate_y_class_weight\u001b[1;34m(self, y)\u001b[0m\n\u001b[0;32m    732\u001b[0m \u001b[1;33m\u001b[0m\u001b[0m\n\u001b[0;32m    733\u001b[0m     \u001b[1;32mdef\u001b[0m \u001b[0m_validate_y_class_weight\u001b[0m\u001b[1;33m(\u001b[0m\u001b[0mself\u001b[0m\u001b[1;33m,\u001b[0m \u001b[0my\u001b[0m\u001b[1;33m)\u001b[0m\u001b[1;33m:\u001b[0m\u001b[1;33m\u001b[0m\u001b[1;33m\u001b[0m\u001b[0m\n\u001b[1;32m--> 734\u001b[1;33m         \u001b[0mcheck_classification_targets\u001b[0m\u001b[1;33m(\u001b[0m\u001b[0my\u001b[0m\u001b[1;33m)\u001b[0m\u001b[1;33m\u001b[0m\u001b[1;33m\u001b[0m\u001b[0m\n\u001b[0m\u001b[0;32m    735\u001b[0m \u001b[1;33m\u001b[0m\u001b[0m\n\u001b[0;32m    736\u001b[0m         \u001b[0my\u001b[0m \u001b[1;33m=\u001b[0m \u001b[0mnp\u001b[0m\u001b[1;33m.\u001b[0m\u001b[0mcopy\u001b[0m\u001b[1;33m(\u001b[0m\u001b[0my\u001b[0m\u001b[1;33m)\u001b[0m\u001b[1;33m\u001b[0m\u001b[1;33m\u001b[0m\u001b[0m\n",
      "\u001b[1;32m~\\anaconda3\\lib\\site-packages\\sklearn\\utils\\multiclass.py\u001b[0m in \u001b[0;36mcheck_classification_targets\u001b[1;34m(y)\u001b[0m\n\u001b[0;32m    195\u001b[0m         \u001b[1;34m\"multilabel-sequences\"\u001b[0m\u001b[1;33m,\u001b[0m\u001b[1;33m\u001b[0m\u001b[1;33m\u001b[0m\u001b[0m\n\u001b[0;32m    196\u001b[0m     ]:\n\u001b[1;32m--> 197\u001b[1;33m         \u001b[1;32mraise\u001b[0m \u001b[0mValueError\u001b[0m\u001b[1;33m(\u001b[0m\u001b[1;34m\"Unknown label type: %r\"\u001b[0m \u001b[1;33m%\u001b[0m \u001b[0my_type\u001b[0m\u001b[1;33m)\u001b[0m\u001b[1;33m\u001b[0m\u001b[1;33m\u001b[0m\u001b[0m\n\u001b[0m\u001b[0;32m    198\u001b[0m \u001b[1;33m\u001b[0m\u001b[0m\n\u001b[0;32m    199\u001b[0m \u001b[1;33m\u001b[0m\u001b[0m\n",
      "\u001b[1;31mValueError\u001b[0m: Unknown label type: 'continuous'"
     ]
    }
   ],
   "source": [
    "model.fit(X_train,Y_train)\n"
   ]
  },
  {
   "cell_type": "code",
   "execution_count": 40,
   "id": "f2ab63a4",
   "metadata": {},
   "outputs": [],
   "source": [
    "from sklearn.svm import SVC,SVR"
   ]
  },
  {
   "cell_type": "code",
   "execution_count": 41,
   "id": "6972cf29",
   "metadata": {},
   "outputs": [],
   "source": [
    "model = SVC()"
   ]
  },
  {
   "cell_type": "code",
   "execution_count": 42,
   "id": "ac076819",
   "metadata": {},
   "outputs": [
    {
     "ename": "ValueError",
     "evalue": "Unknown label type: 'continuous'",
     "output_type": "error",
     "traceback": [
      "\u001b[1;31m---------------------------------------------------------------------------\u001b[0m",
      "\u001b[1;31mValueError\u001b[0m                                Traceback (most recent call last)",
      "\u001b[1;32m~\\AppData\\Local\\Temp\\ipykernel_6508\\4153405994.py\u001b[0m in \u001b[0;36m<module>\u001b[1;34m\u001b[0m\n\u001b[1;32m----> 1\u001b[1;33m \u001b[0mmodel\u001b[0m\u001b[1;33m.\u001b[0m\u001b[0mfit\u001b[0m\u001b[1;33m(\u001b[0m\u001b[0mX_train\u001b[0m\u001b[1;33m,\u001b[0m\u001b[0mY_train\u001b[0m\u001b[1;33m)\u001b[0m\u001b[1;33m\u001b[0m\u001b[1;33m\u001b[0m\u001b[0m\n\u001b[0m",
      "\u001b[1;32m~\\anaconda3\\lib\\site-packages\\sklearn\\svm\\_base.py\u001b[0m in \u001b[0;36mfit\u001b[1;34m(self, X, y, sample_weight)\u001b[0m\n\u001b[0;32m    197\u001b[0m             )\n\u001b[0;32m    198\u001b[0m \u001b[1;33m\u001b[0m\u001b[0m\n\u001b[1;32m--> 199\u001b[1;33m         \u001b[0my\u001b[0m \u001b[1;33m=\u001b[0m \u001b[0mself\u001b[0m\u001b[1;33m.\u001b[0m\u001b[0m_validate_targets\u001b[0m\u001b[1;33m(\u001b[0m\u001b[0my\u001b[0m\u001b[1;33m)\u001b[0m\u001b[1;33m\u001b[0m\u001b[1;33m\u001b[0m\u001b[0m\n\u001b[0m\u001b[0;32m    200\u001b[0m \u001b[1;33m\u001b[0m\u001b[0m\n\u001b[0;32m    201\u001b[0m         sample_weight = np.asarray(\n",
      "\u001b[1;32m~\\anaconda3\\lib\\site-packages\\sklearn\\svm\\_base.py\u001b[0m in \u001b[0;36m_validate_targets\u001b[1;34m(self, y)\u001b[0m\n\u001b[0;32m    714\u001b[0m     \u001b[1;32mdef\u001b[0m \u001b[0m_validate_targets\u001b[0m\u001b[1;33m(\u001b[0m\u001b[0mself\u001b[0m\u001b[1;33m,\u001b[0m \u001b[0my\u001b[0m\u001b[1;33m)\u001b[0m\u001b[1;33m:\u001b[0m\u001b[1;33m\u001b[0m\u001b[1;33m\u001b[0m\u001b[0m\n\u001b[0;32m    715\u001b[0m         \u001b[0my_\u001b[0m \u001b[1;33m=\u001b[0m \u001b[0mcolumn_or_1d\u001b[0m\u001b[1;33m(\u001b[0m\u001b[0my\u001b[0m\u001b[1;33m,\u001b[0m \u001b[0mwarn\u001b[0m\u001b[1;33m=\u001b[0m\u001b[1;32mTrue\u001b[0m\u001b[1;33m)\u001b[0m\u001b[1;33m\u001b[0m\u001b[1;33m\u001b[0m\u001b[0m\n\u001b[1;32m--> 716\u001b[1;33m         \u001b[0mcheck_classification_targets\u001b[0m\u001b[1;33m(\u001b[0m\u001b[0my\u001b[0m\u001b[1;33m)\u001b[0m\u001b[1;33m\u001b[0m\u001b[1;33m\u001b[0m\u001b[0m\n\u001b[0m\u001b[0;32m    717\u001b[0m         \u001b[0mcls\u001b[0m\u001b[1;33m,\u001b[0m \u001b[0my\u001b[0m \u001b[1;33m=\u001b[0m \u001b[0mnp\u001b[0m\u001b[1;33m.\u001b[0m\u001b[0munique\u001b[0m\u001b[1;33m(\u001b[0m\u001b[0my_\u001b[0m\u001b[1;33m,\u001b[0m \u001b[0mreturn_inverse\u001b[0m\u001b[1;33m=\u001b[0m\u001b[1;32mTrue\u001b[0m\u001b[1;33m)\u001b[0m\u001b[1;33m\u001b[0m\u001b[1;33m\u001b[0m\u001b[0m\n\u001b[0;32m    718\u001b[0m         \u001b[0mself\u001b[0m\u001b[1;33m.\u001b[0m\u001b[0mclass_weight_\u001b[0m \u001b[1;33m=\u001b[0m \u001b[0mcompute_class_weight\u001b[0m\u001b[1;33m(\u001b[0m\u001b[0mself\u001b[0m\u001b[1;33m.\u001b[0m\u001b[0mclass_weight\u001b[0m\u001b[1;33m,\u001b[0m \u001b[0mclasses\u001b[0m\u001b[1;33m=\u001b[0m\u001b[0mcls\u001b[0m\u001b[1;33m,\u001b[0m \u001b[0my\u001b[0m\u001b[1;33m=\u001b[0m\u001b[0my_\u001b[0m\u001b[1;33m)\u001b[0m\u001b[1;33m\u001b[0m\u001b[1;33m\u001b[0m\u001b[0m\n",
      "\u001b[1;32m~\\anaconda3\\lib\\site-packages\\sklearn\\utils\\multiclass.py\u001b[0m in \u001b[0;36mcheck_classification_targets\u001b[1;34m(y)\u001b[0m\n\u001b[0;32m    195\u001b[0m         \u001b[1;34m\"multilabel-sequences\"\u001b[0m\u001b[1;33m,\u001b[0m\u001b[1;33m\u001b[0m\u001b[1;33m\u001b[0m\u001b[0m\n\u001b[0;32m    196\u001b[0m     ]:\n\u001b[1;32m--> 197\u001b[1;33m         \u001b[1;32mraise\u001b[0m \u001b[0mValueError\u001b[0m\u001b[1;33m(\u001b[0m\u001b[1;34m\"Unknown label type: %r\"\u001b[0m \u001b[1;33m%\u001b[0m \u001b[0my_type\u001b[0m\u001b[1;33m)\u001b[0m\u001b[1;33m\u001b[0m\u001b[1;33m\u001b[0m\u001b[0m\n\u001b[0m\u001b[0;32m    198\u001b[0m \u001b[1;33m\u001b[0m\u001b[0m\n\u001b[0;32m    199\u001b[0m \u001b[1;33m\u001b[0m\u001b[0m\n",
      "\u001b[1;31mValueError\u001b[0m: Unknown label type: 'continuous'"
     ]
    }
   ],
   "source": [
    "model.fit(X_train,Y_train)"
   ]
  },
  {
   "cell_type": "code",
   "execution_count": 55,
   "id": "ecc6b00c",
   "metadata": {},
   "outputs": [],
   "source": [
    "import pandas as pd"
   ]
  },
  {
   "cell_type": "code",
   "execution_count": 56,
   "id": "cc619774",
   "metadata": {},
   "outputs": [],
   "source": [
    "from sklearn.metrics import accuracy_score\n",
    "from sklearn.model_selection import train_test_split\n",
    "from sklearn.tree import DecisionTreeClassifier\n",
    "from sklearn.ensemble import RandomForestClassifier\n",
    "from sklearn.neighbors import KNeighborsClassifier\n",
    "from sklearn.svm import SVC"
   ]
  },
  {
   "cell_type": "code",
   "execution_count": 57,
   "id": "7399e8f3",
   "metadata": {},
   "outputs": [],
   "source": [
    "def preprocess(df,outputcolumn):\n",
    "    X=df.drop(outputcolumn,axis=1)\n",
    "    Y=df[outputcolumn]\n",
    "    X_train,X_test,Y_train,Y_test = train_test_split(X,Y,test_size=0.3,random_state=10)\n",
    "    return (X_train,X_test,Y_train,Y_test)"
   ]
  },
  {
   "cell_type": "code",
   "execution_count": 62,
   "id": "0e73e3ca",
   "metadata": {},
   "outputs": [],
   "source": [
    "def selectAlgo(X_train,X_test,Y_train,Y_test):\n",
    "    model = {}\n",
    "    model['DecisionTee'] = DecisionTreeClassifier()\n",
    "    model['RandomForest'] = RandomForestClassifier()\n",
    "    model['SupportVector']= SVC()\n",
    "    model['Knn'] = KNeighborsClassifier()\n",
    "    \n",
    "    for model_name,m in model.items():\n",
    "        print(model_name,'is fitting')\n",
    "        m.fit(X_train,Y_train)\n",
    "        Y_pred = m.predict(X_test)\n",
    "        print(model_name,accuracy_score(Y_test,Y_pred))"
   ]
  },
  {
   "cell_type": "code",
   "execution_count": 63,
   "id": "f9f53fa6",
   "metadata": {},
   "outputs": [],
   "source": [
    "res = preprocess(pd.read_csv('https://gist.githubusercontent.com/netj/8836201/raw/6f9306ad21398ea43cba4f7d537619d0e07d5ae3/iris.csv'),'variety')"
   ]
  },
  {
   "cell_type": "code",
   "execution_count": 64,
   "id": "f6c29b58",
   "metadata": {},
   "outputs": [
    {
     "name": "stdout",
     "output_type": "stream",
     "text": [
      "DecisionTee is fitting\n",
      "DecisionTee 0.9777777777777777\n",
      "RandomForest is fitting\n",
      "RandomForest 0.9777777777777777\n",
      "SupportVector is fitting\n",
      "SupportVector 1.0\n",
      "Knn is fitting\n",
      "Knn 0.9777777777777777\n"
     ]
    },
    {
     "name": "stderr",
     "output_type": "stream",
     "text": [
      "C:\\Users\\Admin\\anaconda3\\lib\\site-packages\\sklearn\\neighbors\\_classification.py:228: FutureWarning: Unlike other reduction functions (e.g. `skew`, `kurtosis`), the default behavior of `mode` typically preserves the axis it acts along. In SciPy 1.11.0, this behavior will change: the default value of `keepdims` will become False, the `axis` over which the statistic is taken will be eliminated, and the value None will no longer be accepted. Set `keepdims` to True or False to avoid this warning.\n",
      "  mode, _ = stats.mode(_y[neigh_ind, k], axis=1)\n"
     ]
    }
   ],
   "source": [
    "selectAlgo(res[0],res[1],res[2],res[3])"
   ]
  },
  {
   "cell_type": "code",
   "execution_count": 65,
   "id": "12afc7ea",
   "metadata": {},
   "outputs": [],
   "source": [
    "from sklearn.ensemble import AdaBoostClassifier\n",
    "from sklearn.tree import DecisionTreeClassifier\n",
    "from sklearn.datasets import load_breast_cancer\n",
    "import pandas as pd\n",
    "import numpy as np\n",
    "from sklearn.model_selection import train_test_split\n",
    "from sklearn.metrics import confusion_matrix\n",
    "from sklearn.preprocessing import LabelEncoder"
   ]
  },
  {
   "cell_type": "code",
   "execution_count": 66,
   "id": "8553c64f",
   "metadata": {},
   "outputs": [],
   "source": [
    "breast_cancer = load_breast_cancer()\n",
    "X = pd.DataFrame(breast_cancer.data, columns=breast_cancer.feature_names)\n",
    "y = pd.Categorical.from_codes(breast_cancer.target, breast_cancer.target_names)"
   ]
  },
  {
   "cell_type": "code",
   "execution_count": 67,
   "id": "3c0901ad",
   "metadata": {},
   "outputs": [],
   "source": [
    "encoder = LabelEncoder()\n",
    "binary_encoded_y = pd.Series(encoder.fit_transform(y))"
   ]
  },
  {
   "cell_type": "code",
   "execution_count": 68,
   "id": "b2f8903e",
   "metadata": {},
   "outputs": [
    {
     "name": "stdout",
     "output_type": "stream",
     "text": [
      "     mean radius  mean texture  mean perimeter  mean area  mean smoothness  \\\n",
      "0          17.99         10.38          122.80     1001.0          0.11840   \n",
      "1          20.57         17.77          132.90     1326.0          0.08474   \n",
      "2          19.69         21.25          130.00     1203.0          0.10960   \n",
      "3          11.42         20.38           77.58      386.1          0.14250   \n",
      "4          20.29         14.34          135.10     1297.0          0.10030   \n",
      "..           ...           ...             ...        ...              ...   \n",
      "564        21.56         22.39          142.00     1479.0          0.11100   \n",
      "565        20.13         28.25          131.20     1261.0          0.09780   \n",
      "566        16.60         28.08          108.30      858.1          0.08455   \n",
      "567        20.60         29.33          140.10     1265.0          0.11780   \n",
      "568         7.76         24.54           47.92      181.0          0.05263   \n",
      "\n",
      "     mean compactness  mean concavity  mean concave points  mean symmetry  \\\n",
      "0             0.27760         0.30010              0.14710         0.2419   \n",
      "1             0.07864         0.08690              0.07017         0.1812   \n",
      "2             0.15990         0.19740              0.12790         0.2069   \n",
      "3             0.28390         0.24140              0.10520         0.2597   \n",
      "4             0.13280         0.19800              0.10430         0.1809   \n",
      "..                ...             ...                  ...            ...   \n",
      "564           0.11590         0.24390              0.13890         0.1726   \n",
      "565           0.10340         0.14400              0.09791         0.1752   \n",
      "566           0.10230         0.09251              0.05302         0.1590   \n",
      "567           0.27700         0.35140              0.15200         0.2397   \n",
      "568           0.04362         0.00000              0.00000         0.1587   \n",
      "\n",
      "     mean fractal dimension  ...  worst radius  worst texture  \\\n",
      "0                   0.07871  ...        25.380          17.33   \n",
      "1                   0.05667  ...        24.990          23.41   \n",
      "2                   0.05999  ...        23.570          25.53   \n",
      "3                   0.09744  ...        14.910          26.50   \n",
      "4                   0.05883  ...        22.540          16.67   \n",
      "..                      ...  ...           ...            ...   \n",
      "564                 0.05623  ...        25.450          26.40   \n",
      "565                 0.05533  ...        23.690          38.25   \n",
      "566                 0.05648  ...        18.980          34.12   \n",
      "567                 0.07016  ...        25.740          39.42   \n",
      "568                 0.05884  ...         9.456          30.37   \n",
      "\n",
      "     worst perimeter  worst area  worst smoothness  worst compactness  \\\n",
      "0             184.60      2019.0           0.16220            0.66560   \n",
      "1             158.80      1956.0           0.12380            0.18660   \n",
      "2             152.50      1709.0           0.14440            0.42450   \n",
      "3              98.87       567.7           0.20980            0.86630   \n",
      "4             152.20      1575.0           0.13740            0.20500   \n",
      "..               ...         ...               ...                ...   \n",
      "564           166.10      2027.0           0.14100            0.21130   \n",
      "565           155.00      1731.0           0.11660            0.19220   \n",
      "566           126.70      1124.0           0.11390            0.30940   \n",
      "567           184.60      1821.0           0.16500            0.86810   \n",
      "568            59.16       268.6           0.08996            0.06444   \n",
      "\n",
      "     worst concavity  worst concave points  worst symmetry  \\\n",
      "0             0.7119                0.2654          0.4601   \n",
      "1             0.2416                0.1860          0.2750   \n",
      "2             0.4504                0.2430          0.3613   \n",
      "3             0.6869                0.2575          0.6638   \n",
      "4             0.4000                0.1625          0.2364   \n",
      "..               ...                   ...             ...   \n",
      "564           0.4107                0.2216          0.2060   \n",
      "565           0.3215                0.1628          0.2572   \n",
      "566           0.3403                0.1418          0.2218   \n",
      "567           0.9387                0.2650          0.4087   \n",
      "568           0.0000                0.0000          0.2871   \n",
      "\n",
      "     worst fractal dimension  \n",
      "0                    0.11890  \n",
      "1                    0.08902  \n",
      "2                    0.08758  \n",
      "3                    0.17300  \n",
      "4                    0.07678  \n",
      "..                       ...  \n",
      "564                  0.07115  \n",
      "565                  0.06637  \n",
      "566                  0.07820  \n",
      "567                  0.12400  \n",
      "568                  0.07039  \n",
      "\n",
      "[569 rows x 30 columns]\n"
     ]
    }
   ],
   "source": [
    "train_X, test_X, train_y, test_y = train_test_split(X, binary_encoded_y, random_state=1)\n",
    "print(X)"
   ]
  },
  {
   "cell_type": "code",
   "execution_count": 69,
   "id": "3d6a38de",
   "metadata": {},
   "outputs": [
    {
     "data": {
      "text/plain": [
       "AdaBoostClassifier(base_estimator=DecisionTreeClassifier(max_depth=1),\n",
       "                   n_estimators=200)"
      ]
     },
     "execution_count": 69,
     "metadata": {},
     "output_type": "execute_result"
    }
   ],
   "source": [
    "classifier = AdaBoostClassifier(\n",
    "    DecisionTreeClassifier(max_depth=1),\n",
    "    n_estimators=200\n",
    ")\n",
    "classifier.fit(train_X, train_y)"
   ]
  },
  {
   "cell_type": "code",
   "execution_count": 70,
   "id": "7a1d0404",
   "metadata": {},
   "outputs": [],
   "source": [
    "predictions = classifier.predict(test_X)"
   ]
  },
  {
   "cell_type": "code",
   "execution_count": 71,
   "id": "e160ba13",
   "metadata": {},
   "outputs": [
    {
     "data": {
      "text/plain": [
       "array([[86,  2],\n",
       "       [ 3, 52]], dtype=int64)"
      ]
     },
     "execution_count": 71,
     "metadata": {},
     "output_type": "execute_result"
    }
   ],
   "source": [
    "confusion_matrix(test_y, predictions)"
   ]
  },
  {
   "cell_type": "code",
   "execution_count": 72,
   "id": "cad0dfcf",
   "metadata": {},
   "outputs": [],
   "source": [
    "import pandas as pd\n",
    "from sklearn.preprocessing import MinMaxScaler\n",
    "from sklearn.model_selection import train_test_split\n",
    "from sklearn.metrics import classification_report, confusion_matrix\n",
    "from sklearn.ensemble import GradientBoostingClassifier"
   ]
  },
  {
   "cell_type": "code",
   "execution_count": 73,
   "id": "9263f88a",
   "metadata": {},
   "outputs": [
    {
     "ename": "FileNotFoundError",
     "evalue": "[Errno 2] No such file or directory: 'C:/pythonall/titanic/train.csv'",
     "output_type": "error",
     "traceback": [
      "\u001b[1;31m---------------------------------------------------------------------------\u001b[0m",
      "\u001b[1;31mFileNotFoundError\u001b[0m                         Traceback (most recent call last)",
      "\u001b[1;32m~\\AppData\\Local\\Temp\\ipykernel_6508\\3264042432.py\u001b[0m in \u001b[0;36m<module>\u001b[1;34m\u001b[0m\n\u001b[1;32m----> 1\u001b[1;33m \u001b[0mtrain_data\u001b[0m \u001b[1;33m=\u001b[0m \u001b[0mpd\u001b[0m\u001b[1;33m.\u001b[0m\u001b[0mread_csv\u001b[0m\u001b[1;33m(\u001b[0m\u001b[1;34m\"C:/pythonall/titanic/train.csv\"\u001b[0m\u001b[1;33m)\u001b[0m\u001b[1;33m\u001b[0m\u001b[1;33m\u001b[0m\u001b[0m\n\u001b[0m\u001b[0;32m      2\u001b[0m \u001b[0mtest_data\u001b[0m \u001b[1;33m=\u001b[0m \u001b[0mpd\u001b[0m\u001b[1;33m.\u001b[0m\u001b[0mread_csv\u001b[0m\u001b[1;33m(\u001b[0m\u001b[1;34m\"C:/pythonall/titanic/test.csv\"\u001b[0m\u001b[1;33m)\u001b[0m\u001b[1;33m\u001b[0m\u001b[1;33m\u001b[0m\u001b[0m\n",
      "\u001b[1;32m~\\anaconda3\\lib\\site-packages\\pandas\\util\\_decorators.py\u001b[0m in \u001b[0;36mwrapper\u001b[1;34m(*args, **kwargs)\u001b[0m\n\u001b[0;32m    309\u001b[0m                     \u001b[0mstacklevel\u001b[0m\u001b[1;33m=\u001b[0m\u001b[0mstacklevel\u001b[0m\u001b[1;33m,\u001b[0m\u001b[1;33m\u001b[0m\u001b[1;33m\u001b[0m\u001b[0m\n\u001b[0;32m    310\u001b[0m                 )\n\u001b[1;32m--> 311\u001b[1;33m             \u001b[1;32mreturn\u001b[0m \u001b[0mfunc\u001b[0m\u001b[1;33m(\u001b[0m\u001b[1;33m*\u001b[0m\u001b[0margs\u001b[0m\u001b[1;33m,\u001b[0m \u001b[1;33m**\u001b[0m\u001b[0mkwargs\u001b[0m\u001b[1;33m)\u001b[0m\u001b[1;33m\u001b[0m\u001b[1;33m\u001b[0m\u001b[0m\n\u001b[0m\u001b[0;32m    312\u001b[0m \u001b[1;33m\u001b[0m\u001b[0m\n\u001b[0;32m    313\u001b[0m         \u001b[1;32mreturn\u001b[0m \u001b[0mwrapper\u001b[0m\u001b[1;33m\u001b[0m\u001b[1;33m\u001b[0m\u001b[0m\n",
      "\u001b[1;32m~\\anaconda3\\lib\\site-packages\\pandas\\io\\parsers\\readers.py\u001b[0m in \u001b[0;36mread_csv\u001b[1;34m(filepath_or_buffer, sep, delimiter, header, names, index_col, usecols, squeeze, prefix, mangle_dupe_cols, dtype, engine, converters, true_values, false_values, skipinitialspace, skiprows, skipfooter, nrows, na_values, keep_default_na, na_filter, verbose, skip_blank_lines, parse_dates, infer_datetime_format, keep_date_col, date_parser, dayfirst, cache_dates, iterator, chunksize, compression, thousands, decimal, lineterminator, quotechar, quoting, doublequote, escapechar, comment, encoding, encoding_errors, dialect, error_bad_lines, warn_bad_lines, on_bad_lines, delim_whitespace, low_memory, memory_map, float_precision, storage_options)\u001b[0m\n\u001b[0;32m    676\u001b[0m     \u001b[0mkwds\u001b[0m\u001b[1;33m.\u001b[0m\u001b[0mupdate\u001b[0m\u001b[1;33m(\u001b[0m\u001b[0mkwds_defaults\u001b[0m\u001b[1;33m)\u001b[0m\u001b[1;33m\u001b[0m\u001b[1;33m\u001b[0m\u001b[0m\n\u001b[0;32m    677\u001b[0m \u001b[1;33m\u001b[0m\u001b[0m\n\u001b[1;32m--> 678\u001b[1;33m     \u001b[1;32mreturn\u001b[0m \u001b[0m_read\u001b[0m\u001b[1;33m(\u001b[0m\u001b[0mfilepath_or_buffer\u001b[0m\u001b[1;33m,\u001b[0m \u001b[0mkwds\u001b[0m\u001b[1;33m)\u001b[0m\u001b[1;33m\u001b[0m\u001b[1;33m\u001b[0m\u001b[0m\n\u001b[0m\u001b[0;32m    679\u001b[0m \u001b[1;33m\u001b[0m\u001b[0m\n\u001b[0;32m    680\u001b[0m \u001b[1;33m\u001b[0m\u001b[0m\n",
      "\u001b[1;32m~\\anaconda3\\lib\\site-packages\\pandas\\io\\parsers\\readers.py\u001b[0m in \u001b[0;36m_read\u001b[1;34m(filepath_or_buffer, kwds)\u001b[0m\n\u001b[0;32m    573\u001b[0m \u001b[1;33m\u001b[0m\u001b[0m\n\u001b[0;32m    574\u001b[0m     \u001b[1;31m# Create the parser.\u001b[0m\u001b[1;33m\u001b[0m\u001b[1;33m\u001b[0m\u001b[0m\n\u001b[1;32m--> 575\u001b[1;33m     \u001b[0mparser\u001b[0m \u001b[1;33m=\u001b[0m \u001b[0mTextFileReader\u001b[0m\u001b[1;33m(\u001b[0m\u001b[0mfilepath_or_buffer\u001b[0m\u001b[1;33m,\u001b[0m \u001b[1;33m**\u001b[0m\u001b[0mkwds\u001b[0m\u001b[1;33m)\u001b[0m\u001b[1;33m\u001b[0m\u001b[1;33m\u001b[0m\u001b[0m\n\u001b[0m\u001b[0;32m    576\u001b[0m \u001b[1;33m\u001b[0m\u001b[0m\n\u001b[0;32m    577\u001b[0m     \u001b[1;32mif\u001b[0m \u001b[0mchunksize\u001b[0m \u001b[1;32mor\u001b[0m \u001b[0miterator\u001b[0m\u001b[1;33m:\u001b[0m\u001b[1;33m\u001b[0m\u001b[1;33m\u001b[0m\u001b[0m\n",
      "\u001b[1;32m~\\anaconda3\\lib\\site-packages\\pandas\\io\\parsers\\readers.py\u001b[0m in \u001b[0;36m__init__\u001b[1;34m(self, f, engine, **kwds)\u001b[0m\n\u001b[0;32m    930\u001b[0m \u001b[1;33m\u001b[0m\u001b[0m\n\u001b[0;32m    931\u001b[0m         \u001b[0mself\u001b[0m\u001b[1;33m.\u001b[0m\u001b[0mhandles\u001b[0m\u001b[1;33m:\u001b[0m \u001b[0mIOHandles\u001b[0m \u001b[1;33m|\u001b[0m \u001b[1;32mNone\u001b[0m \u001b[1;33m=\u001b[0m \u001b[1;32mNone\u001b[0m\u001b[1;33m\u001b[0m\u001b[1;33m\u001b[0m\u001b[0m\n\u001b[1;32m--> 932\u001b[1;33m         \u001b[0mself\u001b[0m\u001b[1;33m.\u001b[0m\u001b[0m_engine\u001b[0m \u001b[1;33m=\u001b[0m \u001b[0mself\u001b[0m\u001b[1;33m.\u001b[0m\u001b[0m_make_engine\u001b[0m\u001b[1;33m(\u001b[0m\u001b[0mf\u001b[0m\u001b[1;33m,\u001b[0m \u001b[0mself\u001b[0m\u001b[1;33m.\u001b[0m\u001b[0mengine\u001b[0m\u001b[1;33m)\u001b[0m\u001b[1;33m\u001b[0m\u001b[1;33m\u001b[0m\u001b[0m\n\u001b[0m\u001b[0;32m    933\u001b[0m \u001b[1;33m\u001b[0m\u001b[0m\n\u001b[0;32m    934\u001b[0m     \u001b[1;32mdef\u001b[0m \u001b[0mclose\u001b[0m\u001b[1;33m(\u001b[0m\u001b[0mself\u001b[0m\u001b[1;33m)\u001b[0m\u001b[1;33m:\u001b[0m\u001b[1;33m\u001b[0m\u001b[1;33m\u001b[0m\u001b[0m\n",
      "\u001b[1;32m~\\anaconda3\\lib\\site-packages\\pandas\\io\\parsers\\readers.py\u001b[0m in \u001b[0;36m_make_engine\u001b[1;34m(self, f, engine)\u001b[0m\n\u001b[0;32m   1214\u001b[0m             \u001b[1;31m# \"Union[str, PathLike[str], ReadCsvBuffer[bytes], ReadCsvBuffer[str]]\"\u001b[0m\u001b[1;33m\u001b[0m\u001b[1;33m\u001b[0m\u001b[0m\n\u001b[0;32m   1215\u001b[0m             \u001b[1;31m# , \"str\", \"bool\", \"Any\", \"Any\", \"Any\", \"Any\", \"Any\"\u001b[0m\u001b[1;33m\u001b[0m\u001b[1;33m\u001b[0m\u001b[0m\n\u001b[1;32m-> 1216\u001b[1;33m             self.handles = get_handle(  # type: ignore[call-overload]\n\u001b[0m\u001b[0;32m   1217\u001b[0m                 \u001b[0mf\u001b[0m\u001b[1;33m,\u001b[0m\u001b[1;33m\u001b[0m\u001b[1;33m\u001b[0m\u001b[0m\n\u001b[0;32m   1218\u001b[0m                 \u001b[0mmode\u001b[0m\u001b[1;33m,\u001b[0m\u001b[1;33m\u001b[0m\u001b[1;33m\u001b[0m\u001b[0m\n",
      "\u001b[1;32m~\\anaconda3\\lib\\site-packages\\pandas\\io\\common.py\u001b[0m in \u001b[0;36mget_handle\u001b[1;34m(path_or_buf, mode, encoding, compression, memory_map, is_text, errors, storage_options)\u001b[0m\n\u001b[0;32m    784\u001b[0m         \u001b[1;32mif\u001b[0m \u001b[0mioargs\u001b[0m\u001b[1;33m.\u001b[0m\u001b[0mencoding\u001b[0m \u001b[1;32mand\u001b[0m \u001b[1;34m\"b\"\u001b[0m \u001b[1;32mnot\u001b[0m \u001b[1;32min\u001b[0m \u001b[0mioargs\u001b[0m\u001b[1;33m.\u001b[0m\u001b[0mmode\u001b[0m\u001b[1;33m:\u001b[0m\u001b[1;33m\u001b[0m\u001b[1;33m\u001b[0m\u001b[0m\n\u001b[0;32m    785\u001b[0m             \u001b[1;31m# Encoding\u001b[0m\u001b[1;33m\u001b[0m\u001b[1;33m\u001b[0m\u001b[0m\n\u001b[1;32m--> 786\u001b[1;33m             handle = open(\n\u001b[0m\u001b[0;32m    787\u001b[0m                 \u001b[0mhandle\u001b[0m\u001b[1;33m,\u001b[0m\u001b[1;33m\u001b[0m\u001b[1;33m\u001b[0m\u001b[0m\n\u001b[0;32m    788\u001b[0m                 \u001b[0mioargs\u001b[0m\u001b[1;33m.\u001b[0m\u001b[0mmode\u001b[0m\u001b[1;33m,\u001b[0m\u001b[1;33m\u001b[0m\u001b[1;33m\u001b[0m\u001b[0m\n",
      "\u001b[1;31mFileNotFoundError\u001b[0m: [Errno 2] No such file or directory: 'C:/pythonall/titanic/train.csv'"
     ]
    }
   ],
   "source": [
    "train_data = pd.read_csv(\"C:/pythonall/titanic/train.csv\")\n",
    "test_data = pd.read_csv(\"C:/pythonall/titanic/test.csv\")"
   ]
  },
  {
   "cell_type": "code",
   "execution_count": null,
   "id": "44b89885",
   "metadata": {},
   "outputs": [],
   "source": []
  }
 ],
 "metadata": {
  "kernelspec": {
   "display_name": "Python 3 (ipykernel)",
   "language": "python",
   "name": "python3"
  },
  "language_info": {
   "codemirror_mode": {
    "name": "ipython",
    "version": 3
   },
   "file_extension": ".py",
   "mimetype": "text/x-python",
   "name": "python",
   "nbconvert_exporter": "python",
   "pygments_lexer": "ipython3",
   "version": "3.9.13"
  }
 },
 "nbformat": 4,
 "nbformat_minor": 5
}
